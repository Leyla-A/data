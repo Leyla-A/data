{
 "cells": [
  {
   "cell_type": "code",
   "execution_count": 15,
   "metadata": {},
   "outputs": [
    {
     "name": "stdout",
     "output_type": "stream",
     "text": [
      "Requirement already satisfied: googletrans==3.1.0a0 in c:\\programdata\\anaconda3\\lib\\site-packages (3.1.0a0)\n",
      "Requirement already satisfied: httpx==0.13.3 in c:\\programdata\\anaconda3\\lib\\site-packages (from googletrans==3.1.0a0) (0.13.3)\n",
      "Requirement already satisfied: rfc3986<2,>=1.3 in c:\\programdata\\anaconda3\\lib\\site-packages (from httpx==0.13.3->googletrans==3.1.0a0) (1.5.0)\n",
      "Requirement already satisfied: chardet==3.* in c:\\programdata\\anaconda3\\lib\\site-packages (from httpx==0.13.3->googletrans==3.1.0a0) (3.0.4)\n",
      "Requirement already satisfied: hstspreload in c:\\programdata\\anaconda3\\lib\\site-packages (from httpx==0.13.3->googletrans==3.1.0a0) (2021.12.1)\n",
      "Requirement already satisfied: sniffio in c:\\programdata\\anaconda3\\lib\\site-packages (from httpx==0.13.3->googletrans==3.1.0a0) (1.2.0)\n",
      "Requirement already satisfied: httpcore==0.9.* in c:\\programdata\\anaconda3\\lib\\site-packages (from httpx==0.13.3->googletrans==3.1.0a0) (0.9.1)\n",
      "Requirement already satisfied: certifi in c:\\programdata\\anaconda3\\lib\\site-packages (from httpx==0.13.3->googletrans==3.1.0a0) (2020.6.20)\n",
      "Requirement already satisfied: idna==2.* in c:\\programdata\\anaconda3\\lib\\site-packages (from httpx==0.13.3->googletrans==3.1.0a0) (2.10)\n",
      "Requirement already satisfied: h11<0.10,>=0.8 in c:\\programdata\\anaconda3\\lib\\site-packages (from httpcore==0.9.*->httpx==0.13.3->googletrans==3.1.0a0) (0.9.0)\n",
      "Requirement already satisfied: h2==3.* in c:\\programdata\\anaconda3\\lib\\site-packages (from httpcore==0.9.*->httpx==0.13.3->googletrans==3.1.0a0) (3.2.0)\n",
      "Requirement already satisfied: hyperframe<6,>=5.2.0 in c:\\programdata\\anaconda3\\lib\\site-packages (from h2==3.*->httpcore==0.9.*->httpx==0.13.3->googletrans==3.1.0a0) (5.2.0)\n",
      "Requirement already satisfied: hpack<4,>=3.0 in c:\\programdata\\anaconda3\\lib\\site-packages (from h2==3.*->httpcore==0.9.*->httpx==0.13.3->googletrans==3.1.0a0) (3.0.0)\n"
     ]
    }
   ],
   "source": [
    "!pip3 install googletrans==3.1.0a0"
   ]
  },
  {
   "cell_type": "code",
   "execution_count": 16,
   "metadata": {},
   "outputs": [],
   "source": [
    "#####https://www.thepythoncode.com/article/translate-text-in-python\n",
    "from googletrans import Translator, constants\n",
    "from pprint import pprint\n",
    "# init the Google API translator\n",
    "translator = Translator()\n",
    "# Function for translating Catalan to Englisg\n",
    "def translate_ca_en(word): return translator.translate(word,  src=\"ca\", dest=\"en\").text"
   ]
  },
  {
   "cell_type": "code",
   "execution_count": 17,
   "metadata": {},
   "outputs": [],
   "source": [
    "import pandas as pd\n",
    "# Read and join CSVs\n",
    "def CSVs_to_DataFrame(list_of_files, nameOfspecialCol):\n",
    "    list_of_DFs = []\n",
    "    special_col_names = [\"year\", \"districtCode\", \"districtName\", \"neighborhoodCode\", \"neighborhoodName\", nameOfspecialCol, \"count\"]\n",
    "    for i in range(6):\n",
    "        list_of_DFs.append(pd.read_csv(list_of_files[i],  header=0, names = special_col_names))\n",
    "    return pd.concat(list_of_DFs, ignore_index=True)\n",
    "\n",
    "        "
   ]
  },
  {
   "cell_type": "code",
   "execution_count": 18,
   "metadata": {},
   "outputs": [
    {
     "name": "stdout",
     "output_type": "stream",
     "text": [
      "Time passed to translate and concate the csv files from URL lists:  47.70162487030029\n"
     ]
    }
   ],
   "source": [
    "import time\n",
    "t0 = time.time()\n",
    "# Registration in the Register of inhabitants of the city of Barcelona due to immigration according to nationality\n",
    "immigrationByNationality_list = [\"https://opendata-ajuntament.barcelona.cat/data/dataset/653e65cc-9bda-4d89-9701-033998379066/resource/96c35c4e-bdf5-46c6-8452-24c9d1d2680c/download/2015_immigrants_nacionalitats.csv\",\n",
    "                               \"https://opendata-ajuntament.barcelona.cat/data/dataset/653e65cc-9bda-4d89-9701-033998379066/resource/09e80c64-d031-495b-8739-4775641e8761/download/2016_immigrants_nacionalitats.csv\",\n",
    "                               \"https://opendata-ajuntament.barcelona.cat/data/dataset/653e65cc-9bda-4d89-9701-033998379066/resource/88db9f63-be6a-45c2-aec9-bb02a2b6d7af/download/2017_immigrants_nacionalitats.csv\",\n",
    "                               \"https://opendata-ajuntament.barcelona.cat/data/dataset/653e65cc-9bda-4d89-9701-033998379066/resource/435b4917-f5fa-41df-bdf5-7cb163dbc3f0/download/2018_immigrants_nacionalitats.csv\",\n",
    "                               \"https://opendata-ajuntament.barcelona.cat/data/dataset/653e65cc-9bda-4d89-9701-033998379066/resource/816f6f82-0598-4ff4-a4b8-1be4c898fd24/download/2019_immigrants_nacionalitats.csv\",\n",
    "                               \"https://opendata-ajuntament.barcelona.cat/data/dataset/653e65cc-9bda-4d89-9701-033998379066/resource/b3225d8b-6839-4084-ac74-b2fb261ff03b/download/2020_immigrants_nacionalitats.csv\"]\n",
    "\n",
    "# Data Frame\n",
    "immigrationByNationalityDF = CSVs_to_DataFrame(immigrationByNationality_list, \"nationality\")\n",
    "\n",
    "# Registration in the Register of inhabitants of the city of Barcelona due to immigration according to place of origin\n",
    "immigrationByPlaceOfOrigin_list = [\"https://opendata-ajuntament.barcelona.cat/data/dataset/2452c204-d75c-451d-936c-360958dfa3be/resource/d1c1ddf1-0330-47b4-9c18-3f7377fe593a/download/2015_immigrants_lloc-de-procedencia.csv\",\n",
    "                                   \"https://opendata-ajuntament.barcelona.cat/data/dataset/2452c204-d75c-451d-936c-360958dfa3be/resource/14bf0181-2768-4fac-b22e-63b81b49ab02/download/2016_immigrants_lloc-de-procedencia.csv\",\n",
    "                                   \"https://opendata-ajuntament.barcelona.cat/data/dataset/2452c204-d75c-451d-936c-360958dfa3be/resource/3de1116a-08a8-4987-89f1-f1fe53948f68/download/2017_immigrants_lloc-de-procedencia.csv\",\n",
    "                                   \"https://opendata-ajuntament.barcelona.cat/data/dataset/2452c204-d75c-451d-936c-360958dfa3be/resource/43fef4ad-89e5-426d-98a8-02311dc56b89/download/2018_immigrants_lloc-de-procedencia.csv\",\n",
    "                                   \"https://opendata-ajuntament.barcelona.cat/data/dataset/2452c204-d75c-451d-936c-360958dfa3be/resource/53ae5988-611d-4925-ae23-a263b2942dc1/download/2019_immigrants_lloc_de_procedencia.csv\",\n",
    "                                   \"https://opendata-ajuntament.barcelona.cat/data/dataset/2452c204-d75c-451d-936c-360958dfa3be/resource/e5ad0e18-b3b6-43f0-8e8c-7c78cd796200/download/2020_immigrants_lloc_de_procedencia.csv\"]\n",
    "\n",
    "# Data Frame\n",
    "immigrationByPlaceOfOriginDF = CSVs_to_DataFrame(immigrationByPlaceOfOrigin_list, \"placeOfOrigin\")\n",
    "\n",
    "# Registration in the Register of inhabitants of the city of Barcelona for immigration according to sex\n",
    "immigrationBySex_list = [\"https://opendata-ajuntament.barcelona.cat/data/dataset/c4df6103-c9bf-44c0-b51f-b4f65680a599/resource/186f437a-87b7-49c5-b82d-35264fe4f3fa/download/2015_immigrants_sexe.csv\",\n",
    "                         \"https://opendata-ajuntament.barcelona.cat/data/dataset/c4df6103-c9bf-44c0-b51f-b4f65680a599/resource/bfcb095f-ea25-4643-a8fe-384b8406b32f/download/2016_immigrants_sexe.csv\",\n",
    "                         \"https://opendata-ajuntament.barcelona.cat/data/dataset/c4df6103-c9bf-44c0-b51f-b4f65680a599/resource/c034d03e-92af-421a-9ea6-ad1e18415ead/download/2017_immigrants_sexe.csv\",\n",
    "                         \"https://opendata-ajuntament.barcelona.cat/data/dataset/c4df6103-c9bf-44c0-b51f-b4f65680a599/resource/69b06995-8ca8-43d7-9afd-f27c88d175ed/download/2018_immigrants_sexe.csv\",\n",
    "                         \"https://opendata-ajuntament.barcelona.cat/data/dataset/c4df6103-c9bf-44c0-b51f-b4f65680a599/resource/20c768e8-81c8-4ad6-8e20-d19d603d4078/download/2019_immigrants_sexe.csv\",\n",
    "                         \"https://opendata-ajuntament.barcelona.cat/data/dataset/c4df6103-c9bf-44c0-b51f-b4f65680a599/resource/6666ce99-f18a-4e89-a30a-e97bb990e3eb/download/2020_immigrants_sexe.csv\"]\n",
    "\n",
    "immigrationBySexDF = CSVs_to_DataFrame(immigrationBySex_list, \"sex\")\n",
    "\n",
    "# Registration in the Register of inhabitants of the city of Barcelona by immigration according to five-year age\n",
    "immigrationBy5YearAge_list = [\"https://opendata-ajuntament.barcelona.cat/data/dataset/a667cb94-ba45-4515-a782-914d43ffae18/resource/40a10513-3717-4ccd-a0fc-2035b39db35e/download/2015_immigrants_edats-quinquennals.csv\",\n",
    "                                   \"https://opendata-ajuntament.barcelona.cat/data/dataset/a667cb94-ba45-4515-a782-914d43ffae18/resource/9448dcdb-2bc5-4c62-8554-b8e27249fcc4/download/2016_immigrants_edats-quinquennals.csv\",\n",
    "                                   \"https://opendata-ajuntament.barcelona.cat/data/dataset/a667cb94-ba45-4515-a782-914d43ffae18/resource/98744fde-4449-4547-b4ba-4def6a9fd0b2/download/2017_immigrants_edats-quinquennals.csv\",\n",
    "                                   \"https://opendata-ajuntament.barcelona.cat/data/dataset/a667cb94-ba45-4515-a782-914d43ffae18/resource/293e38b7-0c45-4f21-901c-de1340b21877/download/2018_immigrants_edats-quinquennals.csv\",\n",
    "                                   \"https://opendata-ajuntament.barcelona.cat/data/dataset/a667cb94-ba45-4515-a782-914d43ffae18/resource/acd78a51-8094-4582-acbd-0d71bdc874ec/download/2019_immigrants_edats-quinquennals.csv\",\n",
    "                                   \"https://opendata-ajuntament.barcelona.cat/data/dataset/a667cb94-ba45-4515-a782-914d43ffae18/resource/c0d243c8-1a0a-41cc-806a-45cf51d9461d/download/2020_immigrants_edats_quinquennals.csv\"]\n",
    "\n",
    "# Data Frame\n",
    "immigrationBy5YearAgeDF = CSVs_to_DataFrame(immigrationBy5YearAge_list, \"5YearAge\")\n",
    "\n",
    "# Deregistrations in the Register of inhabitants of the city of Barcelona due to emigration according to nationality\n",
    "emigrationByNationality_list = [\"https://opendata-ajuntament.barcelona.cat/data/dataset/9dc3f721-7a31-413d-b8b3-05a459ef10cf/resource/054d9535-f943-482a-849a-d4a4e76f4260/download/2015_emigrants_nacionalitats.csv\",\n",
    "                                \"https://opendata-ajuntament.barcelona.cat/data/dataset/9dc3f721-7a31-413d-b8b3-05a459ef10cf/resource/132cd685-6d87-4087-88e7-3e6ad9c49b16/download/2016_emigrants_nacionalitats.csv\",\n",
    "                                \"https://opendata-ajuntament.barcelona.cat/data/dataset/9dc3f721-7a31-413d-b8b3-05a459ef10cf/resource/95f7de58-76eb-471d-9df6-54a4af8c038d/download/2017_emigrants_nacionalitats.csv\",\n",
    "                                \"https://opendata-ajuntament.barcelona.cat/data/dataset/9dc3f721-7a31-413d-b8b3-05a459ef10cf/resource/3f0d8591-b931-46d6-98d1-39b4ea9b7534/download/2018_emigrants_nacionalitats.csv\",\n",
    "                                \"https://opendata-ajuntament.barcelona.cat/data/dataset/9dc3f721-7a31-413d-b8b3-05a459ef10cf/resource/7575b73b-a594-4be0-96aa-c848849537fb/download/2019_emigrants_nacionalitats.csv\",\n",
    "                                \"https://opendata-ajuntament.barcelona.cat/data/dataset/9dc3f721-7a31-413d-b8b3-05a459ef10cf/resource/22bb48e7-9218-449e-9717-767e9df3221e/download/2020_emigrants_nacionalitats.csv\"]\n",
    "\n",
    "# Data Frame\n",
    "emigrationByNationalityDF = CSVs_to_DataFrame(emigrationByNationality_list, \"nationality\")\n",
    "\n",
    "# Deregistrations in the Register of inhabitants of the city of Barcelona due to emigration according to the place of destination\n",
    "emigrationByPlaceOfDestination_list = [\"https://opendata-ajuntament.barcelona.cat/data/dataset/98123fd3-f027-480a-b996-1502bb90983e/resource/62386a42-912b-480f-bc7d-3c807b88300d/download/2015_emigrants_lloc-de-destinacio.csv\",\n",
    "                                  \"https://opendata-ajuntament.barcelona.cat/data/dataset/98123fd3-f027-480a-b996-1502bb90983e/resource/549fd5b9-066a-43c1-a729-c6a29bab9f33/download/2016_emigrants_lloc-de-destinacio.csv\",\n",
    "                                  \"https://opendata-ajuntament.barcelona.cat/data/dataset/98123fd3-f027-480a-b996-1502bb90983e/resource/87c850ab-e7e7-4baa-8eb5-72ad11b301f2/download/2017_emigrants_lloc-de-destinacio.csv\",\n",
    "                                  \"https://opendata-ajuntament.barcelona.cat/data/dataset/98123fd3-f027-480a-b996-1502bb90983e/resource/45b0e70c-4a70-4632-9593-3ce272eb2587/download/2018_emigrants_lloc-de-destinacio.csv\",\n",
    "                                  \"https://opendata-ajuntament.barcelona.cat/data/dataset/98123fd3-f027-480a-b996-1502bb90983e/resource/f4950b93-2f95-49f1-bcc7-ead994840cce/download/2019_emigrants_lloc-de-destinacio.csv\",\n",
    "                                  \"https://opendata-ajuntament.barcelona.cat/data/dataset/98123fd3-f027-480a-b996-1502bb90983e/resource/91d60e79-6f74-4bf5-9ea8-85ae2d68e133/download/2020_emigrants_lloc_de_destinacio.csv\"]\n",
    "\n",
    "# Data Frame\n",
    "emigrationByPlaceOfDestinationDF = CSVs_to_DataFrame(emigrationByPlaceOfDestination_list, \"placeOfDestination\")\n",
    "\n",
    "# Deregistrations in the Register of inhabitants of the city of Barcelona by emigration by sex\n",
    "emigrationBySex_list = [\"https://opendata-ajuntament.barcelona.cat/data/dataset/bf3419b7-16be-424a-8c0e-f3789a42e25a/resource/eb351d57-80e6-426a-86a2-afd0edf7efac/download/2015_emigrants_sexe.csv\",\n",
    "                        \"https://opendata-ajuntament.barcelona.cat/data/dataset/bf3419b7-16be-424a-8c0e-f3789a42e25a/resource/beb29f2b-db37-4b12-b0a0-cbfeb448703f/download/2016_emigrants_sexe.csv\",\n",
    "                        \"https://opendata-ajuntament.barcelona.cat/data/dataset/bf3419b7-16be-424a-8c0e-f3789a42e25a/resource/1ea15f38-e6ab-4941-a840-9f8799b73303/download/2017_emigrants_sexe.csv\",\n",
    "                        \"https://opendata-ajuntament.barcelona.cat/data/dataset/bf3419b7-16be-424a-8c0e-f3789a42e25a/resource/974fc01f-e017-4821-b25c-492444c9a343/download/2018_emigrants_sexe.csv\",\n",
    "                        \"https://opendata-ajuntament.barcelona.cat/data/dataset/bf3419b7-16be-424a-8c0e-f3789a42e25a/resource/3c848e9d-01a9-448d-bc83-0aedf16684a8/download/2019_emigrants_sexe.csv\",\n",
    "                        \"https://opendata-ajuntament.barcelona.cat/data/dataset/bf3419b7-16be-424a-8c0e-f3789a42e25a/resource/9e65bd11-7905-4fa3-b074-402e55d56dd8/download/2020_emigrants_sexe.csv\"]\n",
    "\n",
    "# Data Frame\n",
    "emigrationBySexDF = CSVs_to_DataFrame(emigrationBySex_list, \"sex\")\n",
    "\n",
    "emigrationBy5YearAge_list = [\"https://opendata-ajuntament.barcelona.cat/data/dataset/aa7462db-cc27-4b2e-affc-21d56dad70ad/resource/3219c650-14e6-4977-af41-209567cd53f8/download/2015_emigrants_edats-quinquennals.csv\",\n",
    "                             \"https://opendata-ajuntament.barcelona.cat/data/dataset/aa7462db-cc27-4b2e-affc-21d56dad70ad/resource/9b0e8635-dc82-4c2e-9d5d-1f1364bca840/download/2016_emigrants_edats-quinquennals.csv\",\n",
    "                             \"https://opendata-ajuntament.barcelona.cat/data/dataset/aa7462db-cc27-4b2e-affc-21d56dad70ad/resource/ad9b6b7b-e9e8-4a0a-a189-f0f3868ddbc1/download/2017_emigrants_edats-quinquennals.csv\",\n",
    "                             \"https://opendata-ajuntament.barcelona.cat/data/dataset/aa7462db-cc27-4b2e-affc-21d56dad70ad/resource/e519e200-dd79-45c7-ad7f-eca35cc721bf/download/2018_emigrants_edats-quinquennals.csv\",\n",
    "                             \"https://opendata-ajuntament.barcelona.cat/data/dataset/aa7462db-cc27-4b2e-affc-21d56dad70ad/resource/7daa4925-16b6-4f74-91f5-148eb7ad6df8/download/2019_emigrants_edats-quinquennals.csv\",\n",
    "                             \"https://opendata-ajuntament.barcelona.cat/data/dataset/aa7462db-cc27-4b2e-affc-21d56dad70ad/resource/f0de58f1-1f60-4b6e-8721-c1fcd97deb37/download/2020_emigrants_edats_quinquennals.csv\"]\n",
    "\n",
    "# Data Frame\n",
    "emigrationBy5YearAgeDF = CSVs_to_DataFrame(emigrationBy5YearAge_list, \"5YearAge\")\n",
    "\n",
    "print(\"Time passed to translate and concate the csv files from URL lists: \", time.time()-t0)"
   ]
  },
  {
   "cell_type": "code",
   "execution_count": null,
   "metadata": {},
   "outputs": [
    {
     "name": "stdout",
     "output_type": "stream",
     "text": [
      "<class 'pandas.core.frame.DataFrame'>\n",
      "RangeIndex: 70775 entries, 0 to 70774\n",
      "Data columns (total 7 columns):\n",
      " #   Column            Non-Null Count  Dtype \n",
      "---  ------            --------------  ----- \n",
      " 0   year              70775 non-null  int64 \n",
      " 1   districtCode      70775 non-null  int64 \n",
      " 2   districtName      70775 non-null  object\n",
      " 3   neighborhoodCode  70775 non-null  int64 \n",
      " 4   neighborhoodName  70775 non-null  object\n",
      " 5   nationality       70775 non-null  object\n",
      " 6   count             70775 non-null  int64 \n",
      "dtypes: int64(4), object(3)\n",
      "memory usage: 3.8+ MB\n"
     ]
    },
    {
     "data": {
      "text/html": [
       "<div>\n",
       "<style scoped>\n",
       "    .dataframe tbody tr th:only-of-type {\n",
       "        vertical-align: middle;\n",
       "    }\n",
       "\n",
       "    .dataframe tbody tr th {\n",
       "        vertical-align: top;\n",
       "    }\n",
       "\n",
       "    .dataframe thead th {\n",
       "        text-align: right;\n",
       "    }\n",
       "</style>\n",
       "<table border=\"1\" class=\"dataframe\">\n",
       "  <thead>\n",
       "    <tr style=\"text-align: right;\">\n",
       "      <th></th>\n",
       "      <th>year</th>\n",
       "      <th>districtCode</th>\n",
       "      <th>neighborhoodCode</th>\n",
       "      <th>count</th>\n",
       "    </tr>\n",
       "  </thead>\n",
       "  <tbody>\n",
       "    <tr>\n",
       "      <th>count</th>\n",
       "      <td>70775.000000</td>\n",
       "      <td>70775.000000</td>\n",
       "      <td>70775.000000</td>\n",
       "      <td>70775.000000</td>\n",
       "    </tr>\n",
       "    <tr>\n",
       "      <th>mean</th>\n",
       "      <td>2017.498750</td>\n",
       "      <td>6.870392</td>\n",
       "      <td>37.416983</td>\n",
       "      <td>7.976136</td>\n",
       "    </tr>\n",
       "    <tr>\n",
       "      <th>std</th>\n",
       "      <td>1.688319</td>\n",
       "      <td>8.074369</td>\n",
       "      <td>21.603230</td>\n",
       "      <td>48.518992</td>\n",
       "    </tr>\n",
       "    <tr>\n",
       "      <th>min</th>\n",
       "      <td>2015.000000</td>\n",
       "      <td>1.000000</td>\n",
       "      <td>1.000000</td>\n",
       "      <td>0.000000</td>\n",
       "    </tr>\n",
       "    <tr>\n",
       "      <th>25%</th>\n",
       "      <td>2016.000000</td>\n",
       "      <td>4.000000</td>\n",
       "      <td>19.000000</td>\n",
       "      <td>0.000000</td>\n",
       "    </tr>\n",
       "    <tr>\n",
       "      <th>50%</th>\n",
       "      <td>2018.000000</td>\n",
       "      <td>7.000000</td>\n",
       "      <td>37.000000</td>\n",
       "      <td>0.000000</td>\n",
       "    </tr>\n",
       "    <tr>\n",
       "      <th>75%</th>\n",
       "      <td>2019.000000</td>\n",
       "      <td>8.000000</td>\n",
       "      <td>56.000000</td>\n",
       "      <td>2.000000</td>\n",
       "    </tr>\n",
       "    <tr>\n",
       "      <th>max</th>\n",
       "      <td>2020.000000</td>\n",
       "      <td>99.000000</td>\n",
       "      <td>99.000000</td>\n",
       "      <td>1603.000000</td>\n",
       "    </tr>\n",
       "  </tbody>\n",
       "</table>\n",
       "</div>"
      ],
      "text/plain": [
       "               year  districtCode  neighborhoodCode         count\n",
       "count  70775.000000  70775.000000      70775.000000  70775.000000\n",
       "mean    2017.498750      6.870392         37.416983      7.976136\n",
       "std        1.688319      8.074369         21.603230     48.518992\n",
       "min     2015.000000      1.000000          1.000000      0.000000\n",
       "25%     2016.000000      4.000000         19.000000      0.000000\n",
       "50%     2018.000000      7.000000         37.000000      0.000000\n",
       "75%     2019.000000      8.000000         56.000000      2.000000\n",
       "max     2020.000000     99.000000         99.000000   1603.000000"
      ]
     },
     "metadata": {},
     "output_type": "display_data"
    }
   ],
   "source": [
    "t0 = time.time()\n",
    "immigrationByNationalityDF.info()\n",
    "display(immigrationByNationalityDF.describe())\n",
    "list_of_nationality = immigrationByNationalityDF.nationality.unique()\n",
    "list_of_nationality_translated = { x : translate_ca_en(x) for x in list_of_nationality}\n",
    "\n",
    "# fixing errors in translation\n",
    "list_of_nationality_translated['Marroc, el'] = \"Morocco\"\n",
    "list_of_nationality_translated['Estats Units, els'] = \"United States\"\n",
    "list_of_nationality_translated[\"Iraq, l'\"] = \"Iraq\"\n",
    "list_of_nationality_translated['Macedònia'] = \"North Macedonia\"\n",
    "list_of_nationality_translated['Iemen, el'] = \"Yemen\"\n",
    "list_of_nationality_translated['Sudan, el'] = \"Sudan\"\n",
    "list_of_nationality_translated['No consta'] = \"NAN\"\n",
    "list_of_nationality_translated['Territoris Palestins [o Palestina]'] = 'Palestinian Territories (or Palestine)'  \n",
    "list_of_nationality_translated['Emirats Àrabs Units, els'] = \"United Arab Emirates\" \n",
    "list_of_nationality_translated['Bahames, les'] = \"Bahamas\"\n",
    "list_of_nationality_translated['Comores, les'] =  \"Comoros\"\n",
    "list_of_nationality_translated['Sudan del Sud, el'] = \"South Sudan\"\n",
    "list_of_nationality_translated['Swazilàndia'] =  \"Eswatini\"\n",
    "list_of_nationality_translated['Palestina'] = 'Palestinian Territories (or Palestine)'\n",
    "\n",
    "immigrationByNationalityDF['nationality'] = immigrationByNationalityDF['nationality'].map(list_of_nationality_translated)\n",
    "print(immigrationByNationalityDF.nationality.unique())\n",
    "print(\"Time passed: \", time.time()-t0)"
   ]
  },
  {
   "cell_type": "code",
   "execution_count": null,
   "metadata": {},
   "outputs": [],
   "source": [
    "map_correct = {'Andalusia': 'Andalusia', 'Aragó': 'Aragó', \"Principat  d'Astúries\": \"Principat d'Astúries\", \n",
    "               'Illes Balears': 'Illes Balears', 'Canàries': 'Canàries', 'Cantàbria': 'Cantàbria', \n",
    "               'Castella i Lleó': 'Castella i Lleó', 'Castella-la Manxa': 'Castella-la Manxa', 'Catalunya': 'Catalunya',\n",
    "               'Comunitat Valenciana': 'Comunitat Valenciana', 'Extremadura': 'Extremadura', 'Galícia': 'Galícia', \n",
    "               'Comunitat de Madrid': 'Comunitat de Madrid', 'Regió de Múrcia': 'Regió de Múrcia', \n",
    "               'Comunitat Foral de Navarra': 'Comunitat Foral de Navarra', 'País Basc': 'País Basc',\n",
    "               'Rioja, La': 'Rioja, La', 'Ceuta': 'Ceuta', 'Melilla': 'Melilla', 'Estranger': 'Estranger',\n",
    "               \"Principat d'Astúries\": \"Principat d'Astúries\", 'Castella - la Manxa': 'Castella - la Manxa'}"
   ]
  },
  {
   "cell_type": "code",
   "execution_count": null,
   "metadata": {},
   "outputs": [],
   "source": [
    "def translate_ca_es(word): return translator.translate(word,  src=\"ca\", dest=\"es\").text"
   ]
  },
  {
   "cell_type": "code",
   "execution_count": null,
   "metadata": {},
   "outputs": [],
   "source": [
    "t0 = time.time()\n",
    "immigrationByPlaceOfOriginDF.info()\n",
    "display(immigrationByPlaceOfOriginDF.describe())\n",
    "list_of_PlaceOfOrigin = immigrationByPlaceOfOriginDF.placeOfOrigin.unique()\n",
    "list_of_PlaceOfOrigin_translatedSpanish = { x : translate_ca_es(x) for x in list_of_PlaceOfOrigin}\n",
    "list_of_PlaceOfOrigin_translatedEnglish = { x : translate_ca_en(x) for x in list_of_PlaceOfOrigin}\n",
    "list_of_PlaceOfOrigin_translatedSpanish['Rioja, La'] = \"La Rioja\"\n",
    "list_of_PlaceOfOrigin_translatedEnglish['Rioja, La'] = \"La Rioja\"\n",
    "list_of_PlaceOfOrigin_translatedSpanish['Extranjero'] = 'Foreigner'\n",
    "\n",
    "immigrationByPlaceOfOriginDF['placeOfOriginENG'] = immigrationByPlaceOfOriginDF['placeOfOrigin'].map(\n",
    "                                                                                list_of_PlaceOfOrigin_translatedEnglish)\n",
    "immigrationByPlaceOfOriginDF['placeOfOrigin'] = immigrationByPlaceOfOriginDF['placeOfOrigin'].map(\n",
    "                                                                                list_of_PlaceOfOrigin_translatedSpanish)\n",
    "\n",
    "print(immigrationByPlaceOfOriginDF['placeOfOriginENG'].unique())\n",
    "print(immigrationByPlaceOfOriginDF['placeOfOrigin'].unique())\n",
    "display(immigrationByPlaceOfOriginDF.head())\n",
    "print(\"Time passed: \", time.time()-t0)"
   ]
  },
  {
   "cell_type": "code",
   "execution_count": null,
   "metadata": {},
   "outputs": [],
   "source": [
    "list_of_age = immigrationBy5YearAgeDF[\"5YearAge\"].unique()\n",
    "list_of_age_translated = { x : translate_ca_en(x) for x in list_of_age}\n",
    "print(list_of_age_translated)"
   ]
  },
  {
   "cell_type": "code",
   "execution_count": null,
   "metadata": {},
   "outputs": [],
   "source": [
    "t0 = time.time()\n",
    "immigrationBy5YearAgeDF.info()\n",
    "display(immigrationBy5YearAgeDF.describe())\n",
    "\n",
    "mapAge = {  '0-4 anys': '0-4',\n",
    "            '5-9 anys': '5-9',\n",
    "            '10-14 anys': '10-14',\n",
    "            '15-19 anys': '15-19',\n",
    "            '20-24 anys': '20-24',\n",
    "            '25-29 anys': '25-29',\n",
    "            '30-34 anys': '30-34',\n",
    "            '35-39 anys': '35-39',\n",
    "            '40-44 anys': '40-44',\n",
    "            '45-49 anys': '45-49',\n",
    "            '50-54 anys': '50-54',\n",
    "            '55-59 anys': '55-59',\n",
    "            '60-64 anys': '60-64',\n",
    "            '65-69 anys': '65-69',\n",
    "            '70-74 anys': '70-74',\n",
    "            '75-79 anys': '75-79',\n",
    "            '80-84 anys': '80-84',\n",
    "            '85-89 anys': '85-89',\n",
    "            '90-94 anys': '90-94',\n",
    "            '95-99 anys': '95-99',\n",
    "            '100 anys i més': '100+',\n",
    "            'No consta': 'NaN'}\n",
    "\n",
    "immigrationBy5YearAgeDF[\"5YearAge\"] = immigrationBy5YearAgeDF[\"5YearAge\"].map(mapAge)\n",
    "\n",
    "print(immigrationBy5YearAgeDF[\"5YearAge\"].unique())\n",
    "display(immigrationBy5YearAgeDF.head())\n",
    "print(\"Time passed: \", time.time()-t0)"
   ]
  },
  {
   "cell_type": "code",
   "execution_count": null,
   "metadata": {},
   "outputs": [],
   "source": [
    "t0 = time.time()\n",
    "immigrationBySexDF.info()\n",
    "display(immigrationBySexDF.describe())\n",
    "dictionary_of_gender_map  = {'Homes': 'Male', 'Dones': 'Female', 'Home': 'Male', 'Dona': 'Female'}\n",
    "immigrationBySexDF['sex'] = immigrationBySexDF['sex'].map(dictionary_of_gender_map)\n",
    "\n",
    "print(immigrationBySexDF['sex'].unique())\n",
    "display(immigrationBySexDF.head())\n",
    "print(\"Time passed: \", time.time()-t0)\n"
   ]
  },
  {
   "cell_type": "code",
   "execution_count": null,
   "metadata": {},
   "outputs": [],
   "source": [
    "t0 = time.time()\n",
    "emigrationByNationalityDF.info()\n",
    "display(emigrationByNationalityDF.describe())\n",
    "list2_of_nationality = emigrationByNationalityDF.nationality.unique()\n",
    "list2_of_nationality_translated = { x : translate_ca_en(x) for x in list2_of_nationality}\n",
    "\n",
    "# fixing errors in translation\n",
    "list2_of_nationality_translated['Marroc, el'] = \"Morocco\"\n",
    "list2_of_nationality_translated['Estats Units, els'] = \"United States\"\n",
    "list2_of_nationality_translated[\"Iraq, l'\"] = \"Iraq\"\n",
    "list2_of_nationality_translated['Macedònia'] = \"North Macedonia\"\n",
    "list2_of_nationality_translated['Iemen, el'] = \"Yemen\"\n",
    "list2_of_nationality_translated['Sudan, el'] = \"Sudan\"\n",
    "list2_of_nationality_translated['No consta'] = \"NAN\"\n",
    "list2_of_nationality_translated['Territoris Palestins [o Palestina]'] = 'Palestinian Territories (or Palestine)'  \n",
    "list2_of_nationality_translated['Palestina'] = 'Palestinian Territories (or Palestine)'\n",
    "\n",
    "#map translations\n",
    "emigrationByNationalityDF['nationality'] = emigrationByNationalityDF['nationality'].map(list2_of_nationality_translated)\n",
    "\n",
    "print(len(list2_of_nationality))\n",
    "print(len(emigrationByNationalityDF.nationality.unique()))\n",
    "print(emigrationByNationalityDF.nationality.unique())\n",
    "display(emigrationByNationalityDF.head())\n",
    "print(\"Time passed: \", time.time()-t0)"
   ]
  },
  {
   "cell_type": "code",
   "execution_count": null,
   "metadata": {},
   "outputs": [],
   "source": [
    "t0 = time.time()\n",
    "emigrationByPlaceOfDestinationDF.info()\n",
    "display(emigrationByPlaceOfDestinationDF.describe())\n",
    "emigrationByPlaceOfDestinationDF['placeOfDestinationENG'] = emigrationByPlaceOfDestinationDF['placeOfDestination'].map(\n",
    "                                                                                list_of_PlaceOfOrigin_translatedEnglish)\n",
    "emigrationByPlaceOfDestinationDF['placeOfDestination'] = emigrationByPlaceOfDestinationDF['placeOfDestination'].map(\n",
    "                                                                                list_of_PlaceOfOrigin_translatedSpanish)\n",
    "\n",
    "print(emigrationByPlaceOfDestinationDF['placeOfDestinationENG'].unique())\n",
    "print(emigrationByPlaceOfDestinationDF['placeOfDestination'].unique())\n",
    "display(emigrationByPlaceOfDestinationDF.head())\n",
    "print(\"Time passed: \", time.time()-t0)"
   ]
  },
  {
   "cell_type": "code",
   "execution_count": null,
   "metadata": {},
   "outputs": [],
   "source": [
    "t0 = time.time()\n",
    "emigrationBy5YearAgeDF.info()\n",
    "display(emigrationBy5YearAgeDF.describe())\n",
    "\n",
    "emigrationBy5YearAgeDF['5YearAge'] = emigrationBy5YearAgeDF['5YearAge'].map(mapAge)\n",
    "\n",
    "print(emigrationBy5YearAgeDF['5YearAge'].unique())\n",
    "display(emigrationBy5YearAgeDF.head())\n",
    "print(\"Time passed: \", time.time()-t0)"
   ]
  },
  {
   "cell_type": "code",
   "execution_count": null,
   "metadata": {},
   "outputs": [],
   "source": [
    "t0 = time.time()\n",
    "emigrationBySexDF.info()\n",
    "display(emigrationBySexDF.describe())\n",
    "emigrationBySexDF['sex'] = emigrationBySexDF['sex'].map(dictionary_of_gender_map)\n",
    "print(emigrationBySexDF['sex'].unique())\n",
    "display(emigrationBySexDF.head())\n",
    "print(\"Time passed: \", time.time()-t0)"
   ]
  },
  {
   "cell_type": "code",
   "execution_count": null,
   "metadata": {},
   "outputs": [],
   "source": [
    "immigrationBySexDF.districtName.value_counts()"
   ]
  },
  {
   "cell_type": "code",
   "execution_count": null,
   "metadata": {},
   "outputs": [],
   "source": [
    "emigrationBySexDF.districtName.value_counts()"
   ]
  },
  {
   "cell_type": "code",
   "execution_count": null,
   "metadata": {},
   "outputs": [],
   "source": [
    "# drop nulls, \n",
    "# No consta' means 'not included or provided' in Spanish\n",
    "immigrationBySexDF = immigrationBySexDF.set_index('districtName').drop('No consta').reset_index()\n",
    "emigrationBySexDF = emigrationBySexDF.set_index('districtName').drop('No consta').reset_index()"
   ]
  },
  {
   "cell_type": "code",
   "execution_count": null,
   "metadata": {},
   "outputs": [],
   "source": [
    "emigrationBySexDF.districtName.value_counts()"
   ]
  },
  {
   "cell_type": "code",
   "execution_count": null,
   "metadata": {},
   "outputs": [],
   "source": [
    "immigrationBy5YearAgeDF['5YearAge'].value_counts()"
   ]
  },
  {
   "cell_type": "code",
   "execution_count": null,
   "metadata": {},
   "outputs": [],
   "source": [
    "immigrationBy5YearAgeDF[immigrationBy5YearAgeDF['5YearAge'] == 'NaN']"
   ]
  },
  {
   "cell_type": "code",
   "execution_count": null,
   "metadata": {},
   "outputs": [],
   "source": [
    "immigrationBy5YearAgeDF[immigrationBy5YearAgeDF['5YearAge'] == 'NaN']['count'].sum()"
   ]
  },
  {
   "cell_type": "code",
   "execution_count": null,
   "metadata": {},
   "outputs": [],
   "source": [
    "immigrationBy5YearAgeDF.neighborhoodName.value_counts()"
   ]
  },
  {
   "cell_type": "code",
   "execution_count": null,
   "metadata": {},
   "outputs": [],
   "source": [
    "emigrationBy5YearAgeDF['5YearAge'].value_counts()"
   ]
  },
  {
   "cell_type": "code",
   "execution_count": null,
   "metadata": {},
   "outputs": [],
   "source": [
    "# Drop nulls\n",
    "immigrationBy5YearAgeDF = immigrationBy5YearAgeDF.set_index('5YearAge').drop('NaN').reset_index()\n",
    "immigrationBy5YearAgeDF = immigrationBy5YearAgeDF.set_index('districtName').drop('No consta').reset_index()\n",
    "emigrationBy5YearAgeDF = emigrationBy5YearAgeDF.set_index('districtName').drop('No consta').reset_index()\n"
   ]
  },
  {
   "cell_type": "code",
   "execution_count": null,
   "metadata": {},
   "outputs": [],
   "source": [
    "sum(emigrationBy5YearAgeDF.neighborhoodName == 'No consta')"
   ]
  },
  {
   "cell_type": "code",
   "execution_count": null,
   "metadata": {},
   "outputs": [],
   "source": [
    "immigrationByNationalityDF.neighborhoodName.value_counts()"
   ]
  },
  {
   "cell_type": "code",
   "execution_count": null,
   "metadata": {},
   "outputs": [],
   "source": [
    "immigrationByNationalityDF[immigrationByNationalityDF.neighborhoodName == 'No consta']['count'].sum()"
   ]
  },
  {
   "cell_type": "code",
   "execution_count": null,
   "metadata": {},
   "outputs": [],
   "source": [
    "emigrationByNationalityDF.neighborhoodName.value_counts()"
   ]
  },
  {
   "cell_type": "code",
   "execution_count": null,
   "metadata": {},
   "outputs": [],
   "source": [
    "emigrationByNationalityDF[emigrationByNationalityDF.neighborhoodName == 'No consta']['count'].sum()"
   ]
  },
  {
   "cell_type": "code",
   "execution_count": null,
   "metadata": {},
   "outputs": [],
   "source": [
    "immigrationByNationalityDF = immigrationByNationalityDF.set_index('neighborhoodName').drop('No consta').reset_index()\n",
    "emigrationByNationalityDF = emigrationByNationalityDF.set_index('neighborhoodName').drop('No consta').reset_index()"
   ]
  },
  {
   "cell_type": "code",
   "execution_count": null,
   "metadata": {},
   "outputs": [],
   "source": [
    "immigrationByNationalityDF.districtName.value_counts()"
   ]
  },
  {
   "cell_type": "code",
   "execution_count": null,
   "metadata": {},
   "outputs": [],
   "source": [
    "emigrationByNationalityDF.districtName.value_counts()"
   ]
  },
  {
   "cell_type": "code",
   "execution_count": null,
   "metadata": {},
   "outputs": [],
   "source": [
    "immigrationByNationalityDF[immigrationByNationalityDF.nationality ==  'NAN']"
   ]
  },
  {
   "cell_type": "code",
   "execution_count": null,
   "metadata": {},
   "outputs": [],
   "source": [
    "immigrationByPlaceOfOriginDF.neighborhoodName.value_counts()"
   ]
  },
  {
   "cell_type": "code",
   "execution_count": null,
   "metadata": {},
   "outputs": [],
   "source": [
    "immigrationByPlaceOfOriginDF[immigrationByPlaceOfOriginDF.neighborhoodName == 'No consta']['count'].sum()"
   ]
  },
  {
   "cell_type": "code",
   "execution_count": null,
   "metadata": {},
   "outputs": [],
   "source": [
    "emigrationByPlaceOfDestinationDF.neighborhoodName.value_counts()"
   ]
  },
  {
   "cell_type": "code",
   "execution_count": null,
   "metadata": {},
   "outputs": [],
   "source": [
    "emigrationByPlaceOfDestinationDF[emigrationByPlaceOfDestinationDF.neighborhoodName == 'No consta']['count'].sum()"
   ]
  },
  {
   "cell_type": "code",
   "execution_count": null,
   "metadata": {},
   "outputs": [],
   "source": [
    "immigrationByPlaceOfOriginDF = immigrationByPlaceOfOriginDF.set_index('neighborhoodName').drop('No consta').reset_index()\n",
    "emigrationByPlaceOfDestinationDF = emigrationByPlaceOfDestinationDF.set_index('neighborhoodName').drop('No consta').reset_index()"
   ]
  },
  {
   "cell_type": "code",
   "execution_count": null,
   "metadata": {},
   "outputs": [],
   "source": [
    "emigrationByPlaceOfDestinationDF.districtName.value_counts()"
   ]
  },
  {
   "cell_type": "code",
   "execution_count": null,
   "metadata": {},
   "outputs": [],
   "source": [
    "immigrationByPlaceOfOriginDF.districtName.value_counts()"
   ]
  },
  {
   "cell_type": "code",
   "execution_count": null,
   "metadata": {},
   "outputs": [],
   "source": [
    "#Save as csv files\n",
    "immigrationBy5YearAgeDF.to_csv('immigrationBy5YearAgeDFBarcelona.csv', index=False)\n",
    "immigrationByNationalityDF.to_csv('immigrationByNationalityDFBarcelona.csv', index=False)\n",
    "immigrationByPlaceOfOriginDF.to_csv('immigrationByPlaceOfOriginDFBarcelona.csv', index=False)\n",
    "immigrationBySexDF.to_csv('immigrationBySexDFBarcelona.csv', index=False)\n",
    "emigrationBy5YearAgeDF.to_csv('emigrationBy5YearAgeDFBarcelona.csv', index=False)\n",
    "emigrationByNationalityDF.to_csv('emigrationByNationalityDFBarcelona.csv', index=False)\n",
    "emigrationByPlaceOfDestinationDF.to_csv('emigrationByPlaceOfDestinationDFBarcelona.csv', index=False)\n",
    "emigrationBySexDF.to_csv('emigrationBySexDFBarcelona.csv', index=False)\n"
   ]
  },
  {
   "cell_type": "code",
   "execution_count": null,
   "metadata": {},
   "outputs": [],
   "source": [
    "import pandas as pd\n",
    "\n",
    "imAge = pd.read_csv('immigrationBy5YearAgeDFBarcelona.csv')\n",
    "imAge"
   ]
  },
  {
   "cell_type": "code",
   "execution_count": null,
   "metadata": {},
   "outputs": [],
   "source": [
    "imAge.groupby(['districtName'])['count'].sum().to_frame().reset_index().to_csv('imDistrict_count.csv', index=False  )"
   ]
  },
  {
   "cell_type": "code",
   "execution_count": null,
   "metadata": {},
   "outputs": [],
   "source": [
    "pd.read_csv('imDistrict_count.csv')"
   ]
  },
  {
   "cell_type": "code",
   "execution_count": null,
   "metadata": {},
   "outputs": [],
   "source": [
    "imAge.groupby(['neighborhoodName'])['count'].sum().to_frame().reset_index().to_csv('imBarri_count.csv', index=False )"
   ]
  }
 ],
 "metadata": {
  "kernelspec": {
   "display_name": "Python 3",
   "language": "python",
   "name": "python3"
  },
  "language_info": {
   "codemirror_mode": {
    "name": "ipython",
    "version": 3
   },
   "file_extension": ".py",
   "mimetype": "text/x-python",
   "name": "python",
   "nbconvert_exporter": "python",
   "pygments_lexer": "ipython3",
   "version": "3.8.3"
  }
 },
 "nbformat": 4,
 "nbformat_minor": 4
}
