{
 "cells": [
  {
   "cell_type": "code",
   "execution_count": 1,
   "metadata": {},
   "outputs": [
    {
     "name": "stdout",
     "output_type": "stream",
     "text": [
      "Requirement already satisfied: googletrans==3.1.0a0 in c:\\programdata\\anaconda3\\lib\\site-packages (3.1.0a0)\n",
      "Requirement already satisfied: httpx==0.13.3 in c:\\programdata\\anaconda3\\lib\\site-packages (from googletrans==3.1.0a0) (0.13.3)\n",
      "Requirement already satisfied: sniffio in c:\\programdata\\anaconda3\\lib\\site-packages (from httpx==0.13.3->googletrans==3.1.0a0) (1.2.0)\n",
      "Requirement already satisfied: idna==2.* in c:\\programdata\\anaconda3\\lib\\site-packages (from httpx==0.13.3->googletrans==3.1.0a0) (2.10)\n",
      "Requirement already satisfied: hstspreload in c:\\programdata\\anaconda3\\lib\\site-packages (from httpx==0.13.3->googletrans==3.1.0a0) (2021.12.1)\n",
      "Requirement already satisfied: rfc3986<2,>=1.3 in c:\\programdata\\anaconda3\\lib\\site-packages (from httpx==0.13.3->googletrans==3.1.0a0) (1.5.0)\n",
      "Requirement already satisfied: certifi in c:\\programdata\\anaconda3\\lib\\site-packages (from httpx==0.13.3->googletrans==3.1.0a0) (2020.6.20)\n",
      "Requirement already satisfied: httpcore==0.9.* in c:\\programdata\\anaconda3\\lib\\site-packages (from httpx==0.13.3->googletrans==3.1.0a0) (0.9.1)\n",
      "Requirement already satisfied: chardet==3.* in c:\\programdata\\anaconda3\\lib\\site-packages (from httpx==0.13.3->googletrans==3.1.0a0) (3.0.4)\n",
      "Requirement already satisfied: h2==3.* in c:\\programdata\\anaconda3\\lib\\site-packages (from httpcore==0.9.*->httpx==0.13.3->googletrans==3.1.0a0) (3.2.0)\n",
      "Requirement already satisfied: h11<0.10,>=0.8 in c:\\programdata\\anaconda3\\lib\\site-packages (from httpcore==0.9.*->httpx==0.13.3->googletrans==3.1.0a0) (0.9.0)\n",
      "Requirement already satisfied: hpack<4,>=3.0 in c:\\programdata\\anaconda3\\lib\\site-packages (from h2==3.*->httpcore==0.9.*->httpx==0.13.3->googletrans==3.1.0a0) (3.0.0)\n",
      "Requirement already satisfied: hyperframe<6,>=5.2.0 in c:\\programdata\\anaconda3\\lib\\site-packages (from h2==3.*->httpcore==0.9.*->httpx==0.13.3->googletrans==3.1.0a0) (5.2.0)\n"
     ]
    }
   ],
   "source": [
    "!pip3 install googletrans==3.1.0a0"
   ]
  },
  {
   "cell_type": "code",
   "execution_count": 2,
   "metadata": {},
   "outputs": [],
   "source": [
    "#####https://www.thepythoncode.com/article/translate-text-in-python\n",
    "from googletrans import Translator, constants\n",
    "from pprint import pprint\n",
    "# init the Google API translator\n",
    "translator = Translator()\n",
    "# Function for translating Catalan to Englisg\n",
    "def translate_ca_en(word): return translator.translate(word,  src=\"ca\", dest=\"en\").text"
   ]
  },
  {
   "cell_type": "code",
   "execution_count": 3,
   "metadata": {},
   "outputs": [],
   "source": [
    "import pandas as pd\n",
    "# Read and join CSVs\n",
    "def CSVs_to_DataFrame(list_of_files, nameOfspecialCol):\n",
    "    list_of_DFs = []\n",
    "    special_col_names = [\"year\", \"districtCode\", \"districtName\", \"neighborhoodCode\", \"neighborhoodName\", nameOfspecialCol, \"count\"]\n",
    "    for i in range(6):\n",
    "        list_of_DFs.append(pd.read_csv(list_of_files[i],  header=0, names = special_col_names))\n",
    "    return pd.concat(list_of_DFs, ignore_index=True)\n",
    "\n",
    "        "
   ]
  },
  {
   "cell_type": "code",
   "execution_count": 4,
   "metadata": {},
   "outputs": [
    {
     "name": "stdout",
     "output_type": "stream",
     "text": [
      "Time passed to translate and concate the csv files from URL lists:  47.283682346343994\n"
     ]
    }
   ],
   "source": [
    "import time\n",
    "t0 = time.time()\n",
    "# Registration in the Register of inhabitants of the city of Barcelona due to immigration according to nationality\n",
    "immigrationByNationality_list = [\"https://opendata-ajuntament.barcelona.cat/data/dataset/653e65cc-9bda-4d89-9701-033998379066/resource/96c35c4e-bdf5-46c6-8452-24c9d1d2680c/download/2015_immigrants_nacionalitats.csv\",\n",
    "                               \"https://opendata-ajuntament.barcelona.cat/data/dataset/653e65cc-9bda-4d89-9701-033998379066/resource/09e80c64-d031-495b-8739-4775641e8761/download/2016_immigrants_nacionalitats.csv\",\n",
    "                               \"https://opendata-ajuntament.barcelona.cat/data/dataset/653e65cc-9bda-4d89-9701-033998379066/resource/88db9f63-be6a-45c2-aec9-bb02a2b6d7af/download/2017_immigrants_nacionalitats.csv\",\n",
    "                               \"https://opendata-ajuntament.barcelona.cat/data/dataset/653e65cc-9bda-4d89-9701-033998379066/resource/435b4917-f5fa-41df-bdf5-7cb163dbc3f0/download/2018_immigrants_nacionalitats.csv\",\n",
    "                               \"https://opendata-ajuntament.barcelona.cat/data/dataset/653e65cc-9bda-4d89-9701-033998379066/resource/816f6f82-0598-4ff4-a4b8-1be4c898fd24/download/2019_immigrants_nacionalitats.csv\",\n",
    "                               \"https://opendata-ajuntament.barcelona.cat/data/dataset/653e65cc-9bda-4d89-9701-033998379066/resource/b3225d8b-6839-4084-ac74-b2fb261ff03b/download/2020_immigrants_nacionalitats.csv\"]\n",
    "\n",
    "# Data Frame\n",
    "immigrationByNationalityDF = CSVs_to_DataFrame(immigrationByNationality_list, \"nationality\")\n",
    "\n",
    "# Registration in the Register of inhabitants of the city of Barcelona due to immigration according to place of origin\n",
    "immigrationByPlaceOfOrigin_list = [\"https://opendata-ajuntament.barcelona.cat/data/dataset/2452c204-d75c-451d-936c-360958dfa3be/resource/d1c1ddf1-0330-47b4-9c18-3f7377fe593a/download/2015_immigrants_lloc-de-procedencia.csv\",\n",
    "                                   \"https://opendata-ajuntament.barcelona.cat/data/dataset/2452c204-d75c-451d-936c-360958dfa3be/resource/14bf0181-2768-4fac-b22e-63b81b49ab02/download/2016_immigrants_lloc-de-procedencia.csv\",\n",
    "                                   \"https://opendata-ajuntament.barcelona.cat/data/dataset/2452c204-d75c-451d-936c-360958dfa3be/resource/3de1116a-08a8-4987-89f1-f1fe53948f68/download/2017_immigrants_lloc-de-procedencia.csv\",\n",
    "                                   \"https://opendata-ajuntament.barcelona.cat/data/dataset/2452c204-d75c-451d-936c-360958dfa3be/resource/43fef4ad-89e5-426d-98a8-02311dc56b89/download/2018_immigrants_lloc-de-procedencia.csv\",\n",
    "                                   \"https://opendata-ajuntament.barcelona.cat/data/dataset/2452c204-d75c-451d-936c-360958dfa3be/resource/53ae5988-611d-4925-ae23-a263b2942dc1/download/2019_immigrants_lloc_de_procedencia.csv\",\n",
    "                                   \"https://opendata-ajuntament.barcelona.cat/data/dataset/2452c204-d75c-451d-936c-360958dfa3be/resource/e5ad0e18-b3b6-43f0-8e8c-7c78cd796200/download/2020_immigrants_lloc_de_procedencia.csv\"]\n",
    "\n",
    "# Data Frame\n",
    "immigrationByPlaceOfOriginDF = CSVs_to_DataFrame(immigrationByPlaceOfOrigin_list, \"placeOfOrigin\")\n",
    "\n",
    "# Registration in the Register of inhabitants of the city of Barcelona for immigration according to sex\n",
    "immigrationBySex_list = [\"https://opendata-ajuntament.barcelona.cat/data/dataset/c4df6103-c9bf-44c0-b51f-b4f65680a599/resource/186f437a-87b7-49c5-b82d-35264fe4f3fa/download/2015_immigrants_sexe.csv\",\n",
    "                         \"https://opendata-ajuntament.barcelona.cat/data/dataset/c4df6103-c9bf-44c0-b51f-b4f65680a599/resource/bfcb095f-ea25-4643-a8fe-384b8406b32f/download/2016_immigrants_sexe.csv\",\n",
    "                         \"https://opendata-ajuntament.barcelona.cat/data/dataset/c4df6103-c9bf-44c0-b51f-b4f65680a599/resource/c034d03e-92af-421a-9ea6-ad1e18415ead/download/2017_immigrants_sexe.csv\",\n",
    "                         \"https://opendata-ajuntament.barcelona.cat/data/dataset/c4df6103-c9bf-44c0-b51f-b4f65680a599/resource/69b06995-8ca8-43d7-9afd-f27c88d175ed/download/2018_immigrants_sexe.csv\",\n",
    "                         \"https://opendata-ajuntament.barcelona.cat/data/dataset/c4df6103-c9bf-44c0-b51f-b4f65680a599/resource/20c768e8-81c8-4ad6-8e20-d19d603d4078/download/2019_immigrants_sexe.csv\",\n",
    "                         \"https://opendata-ajuntament.barcelona.cat/data/dataset/c4df6103-c9bf-44c0-b51f-b4f65680a599/resource/6666ce99-f18a-4e89-a30a-e97bb990e3eb/download/2020_immigrants_sexe.csv\"]\n",
    "\n",
    "immigrationBySexDF = CSVs_to_DataFrame(immigrationBySex_list, \"sex\")\n",
    "\n",
    "# Registration in the Register of inhabitants of the city of Barcelona by immigration according to five-year age\n",
    "immigrationBy5YearAge_list = [\"https://opendata-ajuntament.barcelona.cat/data/dataset/a667cb94-ba45-4515-a782-914d43ffae18/resource/40a10513-3717-4ccd-a0fc-2035b39db35e/download/2015_immigrants_edats-quinquennals.csv\",\n",
    "                                   \"https://opendata-ajuntament.barcelona.cat/data/dataset/a667cb94-ba45-4515-a782-914d43ffae18/resource/9448dcdb-2bc5-4c62-8554-b8e27249fcc4/download/2016_immigrants_edats-quinquennals.csv\",\n",
    "                                   \"https://opendata-ajuntament.barcelona.cat/data/dataset/a667cb94-ba45-4515-a782-914d43ffae18/resource/98744fde-4449-4547-b4ba-4def6a9fd0b2/download/2017_immigrants_edats-quinquennals.csv\",\n",
    "                                   \"https://opendata-ajuntament.barcelona.cat/data/dataset/a667cb94-ba45-4515-a782-914d43ffae18/resource/293e38b7-0c45-4f21-901c-de1340b21877/download/2018_immigrants_edats-quinquennals.csv\",\n",
    "                                   \"https://opendata-ajuntament.barcelona.cat/data/dataset/a667cb94-ba45-4515-a782-914d43ffae18/resource/acd78a51-8094-4582-acbd-0d71bdc874ec/download/2019_immigrants_edats-quinquennals.csv\",\n",
    "                                   \"https://opendata-ajuntament.barcelona.cat/data/dataset/a667cb94-ba45-4515-a782-914d43ffae18/resource/c0d243c8-1a0a-41cc-806a-45cf51d9461d/download/2020_immigrants_edats_quinquennals.csv\"]\n",
    "\n",
    "# Data Frame\n",
    "immigrationBy5YearAgeDF = CSVs_to_DataFrame(immigrationBy5YearAge_list, \"5YearAge\")\n",
    "\n",
    "# Deregistrations in the Register of inhabitants of the city of Barcelona due to emigration according to nationality\n",
    "emigrationByNationality_list = [\"https://opendata-ajuntament.barcelona.cat/data/dataset/9dc3f721-7a31-413d-b8b3-05a459ef10cf/resource/054d9535-f943-482a-849a-d4a4e76f4260/download/2015_emigrants_nacionalitats.csv\",\n",
    "                                \"https://opendata-ajuntament.barcelona.cat/data/dataset/9dc3f721-7a31-413d-b8b3-05a459ef10cf/resource/132cd685-6d87-4087-88e7-3e6ad9c49b16/download/2016_emigrants_nacionalitats.csv\",\n",
    "                                \"https://opendata-ajuntament.barcelona.cat/data/dataset/9dc3f721-7a31-413d-b8b3-05a459ef10cf/resource/95f7de58-76eb-471d-9df6-54a4af8c038d/download/2017_emigrants_nacionalitats.csv\",\n",
    "                                \"https://opendata-ajuntament.barcelona.cat/data/dataset/9dc3f721-7a31-413d-b8b3-05a459ef10cf/resource/3f0d8591-b931-46d6-98d1-39b4ea9b7534/download/2018_emigrants_nacionalitats.csv\",\n",
    "                                \"https://opendata-ajuntament.barcelona.cat/data/dataset/9dc3f721-7a31-413d-b8b3-05a459ef10cf/resource/7575b73b-a594-4be0-96aa-c848849537fb/download/2019_emigrants_nacionalitats.csv\",\n",
    "                                \"https://opendata-ajuntament.barcelona.cat/data/dataset/9dc3f721-7a31-413d-b8b3-05a459ef10cf/resource/22bb48e7-9218-449e-9717-767e9df3221e/download/2020_emigrants_nacionalitats.csv\"]\n",
    "\n",
    "# Data Frame\n",
    "emigrationByNationalityDF = CSVs_to_DataFrame(emigrationByNationality_list, \"nationality\")\n",
    "\n",
    "# Deregistrations in the Register of inhabitants of the city of Barcelona due to emigration according to the place of destination\n",
    "emigrationByPlaceOfDestination_list = [\"https://opendata-ajuntament.barcelona.cat/data/dataset/98123fd3-f027-480a-b996-1502bb90983e/resource/62386a42-912b-480f-bc7d-3c807b88300d/download/2015_emigrants_lloc-de-destinacio.csv\",\n",
    "                                  \"https://opendata-ajuntament.barcelona.cat/data/dataset/98123fd3-f027-480a-b996-1502bb90983e/resource/549fd5b9-066a-43c1-a729-c6a29bab9f33/download/2016_emigrants_lloc-de-destinacio.csv\",\n",
    "                                  \"https://opendata-ajuntament.barcelona.cat/data/dataset/98123fd3-f027-480a-b996-1502bb90983e/resource/87c850ab-e7e7-4baa-8eb5-72ad11b301f2/download/2017_emigrants_lloc-de-destinacio.csv\",\n",
    "                                  \"https://opendata-ajuntament.barcelona.cat/data/dataset/98123fd3-f027-480a-b996-1502bb90983e/resource/45b0e70c-4a70-4632-9593-3ce272eb2587/download/2018_emigrants_lloc-de-destinacio.csv\",\n",
    "                                  \"https://opendata-ajuntament.barcelona.cat/data/dataset/98123fd3-f027-480a-b996-1502bb90983e/resource/f4950b93-2f95-49f1-bcc7-ead994840cce/download/2019_emigrants_lloc-de-destinacio.csv\",\n",
    "                                  \"https://opendata-ajuntament.barcelona.cat/data/dataset/98123fd3-f027-480a-b996-1502bb90983e/resource/91d60e79-6f74-4bf5-9ea8-85ae2d68e133/download/2020_emigrants_lloc_de_destinacio.csv\"]\n",
    "\n",
    "# Data Frame\n",
    "emigrationByPlaceOfDestinationDF = CSVs_to_DataFrame(emigrationByPlaceOfDestination_list, \"placeOfDestination\")\n",
    "\n",
    "# Deregistrations in the Register of inhabitants of the city of Barcelona by emigration by sex\n",
    "emigrationBySex_list = [\"https://opendata-ajuntament.barcelona.cat/data/dataset/bf3419b7-16be-424a-8c0e-f3789a42e25a/resource/eb351d57-80e6-426a-86a2-afd0edf7efac/download/2015_emigrants_sexe.csv\",\n",
    "                        \"https://opendata-ajuntament.barcelona.cat/data/dataset/bf3419b7-16be-424a-8c0e-f3789a42e25a/resource/beb29f2b-db37-4b12-b0a0-cbfeb448703f/download/2016_emigrants_sexe.csv\",\n",
    "                        \"https://opendata-ajuntament.barcelona.cat/data/dataset/bf3419b7-16be-424a-8c0e-f3789a42e25a/resource/1ea15f38-e6ab-4941-a840-9f8799b73303/download/2017_emigrants_sexe.csv\",\n",
    "                        \"https://opendata-ajuntament.barcelona.cat/data/dataset/bf3419b7-16be-424a-8c0e-f3789a42e25a/resource/974fc01f-e017-4821-b25c-492444c9a343/download/2018_emigrants_sexe.csv\",\n",
    "                        \"https://opendata-ajuntament.barcelona.cat/data/dataset/bf3419b7-16be-424a-8c0e-f3789a42e25a/resource/3c848e9d-01a9-448d-bc83-0aedf16684a8/download/2019_emigrants_sexe.csv\",\n",
    "                        \"https://opendata-ajuntament.barcelona.cat/data/dataset/bf3419b7-16be-424a-8c0e-f3789a42e25a/resource/9e65bd11-7905-4fa3-b074-402e55d56dd8/download/2020_emigrants_sexe.csv\"]\n",
    "\n",
    "# Data Frame\n",
    "emigrationBySexDF = CSVs_to_DataFrame(emigrationBySex_list, \"sex\")\n",
    "\n",
    "emigrationBy5YearAge_list = [\"https://opendata-ajuntament.barcelona.cat/data/dataset/aa7462db-cc27-4b2e-affc-21d56dad70ad/resource/3219c650-14e6-4977-af41-209567cd53f8/download/2015_emigrants_edats-quinquennals.csv\",\n",
    "                             \"https://opendata-ajuntament.barcelona.cat/data/dataset/aa7462db-cc27-4b2e-affc-21d56dad70ad/resource/9b0e8635-dc82-4c2e-9d5d-1f1364bca840/download/2016_emigrants_edats-quinquennals.csv\",\n",
    "                             \"https://opendata-ajuntament.barcelona.cat/data/dataset/aa7462db-cc27-4b2e-affc-21d56dad70ad/resource/ad9b6b7b-e9e8-4a0a-a189-f0f3868ddbc1/download/2017_emigrants_edats-quinquennals.csv\",\n",
    "                             \"https://opendata-ajuntament.barcelona.cat/data/dataset/aa7462db-cc27-4b2e-affc-21d56dad70ad/resource/e519e200-dd79-45c7-ad7f-eca35cc721bf/download/2018_emigrants_edats-quinquennals.csv\",\n",
    "                             \"https://opendata-ajuntament.barcelona.cat/data/dataset/aa7462db-cc27-4b2e-affc-21d56dad70ad/resource/7daa4925-16b6-4f74-91f5-148eb7ad6df8/download/2019_emigrants_edats-quinquennals.csv\",\n",
    "                             \"https://opendata-ajuntament.barcelona.cat/data/dataset/aa7462db-cc27-4b2e-affc-21d56dad70ad/resource/f0de58f1-1f60-4b6e-8721-c1fcd97deb37/download/2020_emigrants_edats_quinquennals.csv\"]\n",
    "\n",
    "# Data Frame\n",
    "emigrationBy5YearAgeDF = CSVs_to_DataFrame(emigrationBy5YearAge_list, \"5YearAge\")\n",
    "\n",
    "print(\"Time passed to translate and concate the csv files from URL lists: \", time.time()-t0)"
   ]
  },
  {
   "cell_type": "code",
   "execution_count": 5,
   "metadata": {},
   "outputs": [
    {
     "name": "stdout",
     "output_type": "stream",
     "text": [
      "<class 'pandas.core.frame.DataFrame'>\n",
      "RangeIndex: 70775 entries, 0 to 70774\n",
      "Data columns (total 7 columns):\n",
      " #   Column            Non-Null Count  Dtype \n",
      "---  ------            --------------  ----- \n",
      " 0   year              70775 non-null  int64 \n",
      " 1   districtCode      70775 non-null  int64 \n",
      " 2   districtName      70775 non-null  object\n",
      " 3   neighborhoodCode  70775 non-null  int64 \n",
      " 4   neighborhoodName  70775 non-null  object\n",
      " 5   nationality       70775 non-null  object\n",
      " 6   count             70775 non-null  int64 \n",
      "dtypes: int64(4), object(3)\n",
      "memory usage: 3.8+ MB\n"
     ]
    },
    {
     "data": {
      "text/html": [
       "<div>\n",
       "<style scoped>\n",
       "    .dataframe tbody tr th:only-of-type {\n",
       "        vertical-align: middle;\n",
       "    }\n",
       "\n",
       "    .dataframe tbody tr th {\n",
       "        vertical-align: top;\n",
       "    }\n",
       "\n",
       "    .dataframe thead th {\n",
       "        text-align: right;\n",
       "    }\n",
       "</style>\n",
       "<table border=\"1\" class=\"dataframe\">\n",
       "  <thead>\n",
       "    <tr style=\"text-align: right;\">\n",
       "      <th></th>\n",
       "      <th>year</th>\n",
       "      <th>districtCode</th>\n",
       "      <th>neighborhoodCode</th>\n",
       "      <th>count</th>\n",
       "    </tr>\n",
       "  </thead>\n",
       "  <tbody>\n",
       "    <tr>\n",
       "      <th>count</th>\n",
       "      <td>70775.000000</td>\n",
       "      <td>70775.000000</td>\n",
       "      <td>70775.000000</td>\n",
       "      <td>70775.000000</td>\n",
       "    </tr>\n",
       "    <tr>\n",
       "      <th>mean</th>\n",
       "      <td>2017.498750</td>\n",
       "      <td>6.870392</td>\n",
       "      <td>37.416983</td>\n",
       "      <td>7.976136</td>\n",
       "    </tr>\n",
       "    <tr>\n",
       "      <th>std</th>\n",
       "      <td>1.688319</td>\n",
       "      <td>8.074369</td>\n",
       "      <td>21.603230</td>\n",
       "      <td>48.518992</td>\n",
       "    </tr>\n",
       "    <tr>\n",
       "      <th>min</th>\n",
       "      <td>2015.000000</td>\n",
       "      <td>1.000000</td>\n",
       "      <td>1.000000</td>\n",
       "      <td>0.000000</td>\n",
       "    </tr>\n",
       "    <tr>\n",
       "      <th>25%</th>\n",
       "      <td>2016.000000</td>\n",
       "      <td>4.000000</td>\n",
       "      <td>19.000000</td>\n",
       "      <td>0.000000</td>\n",
       "    </tr>\n",
       "    <tr>\n",
       "      <th>50%</th>\n",
       "      <td>2018.000000</td>\n",
       "      <td>7.000000</td>\n",
       "      <td>37.000000</td>\n",
       "      <td>0.000000</td>\n",
       "    </tr>\n",
       "    <tr>\n",
       "      <th>75%</th>\n",
       "      <td>2019.000000</td>\n",
       "      <td>8.000000</td>\n",
       "      <td>56.000000</td>\n",
       "      <td>2.000000</td>\n",
       "    </tr>\n",
       "    <tr>\n",
       "      <th>max</th>\n",
       "      <td>2020.000000</td>\n",
       "      <td>99.000000</td>\n",
       "      <td>99.000000</td>\n",
       "      <td>1603.000000</td>\n",
       "    </tr>\n",
       "  </tbody>\n",
       "</table>\n",
       "</div>"
      ],
      "text/plain": [
       "               year  districtCode  neighborhoodCode         count\n",
       "count  70775.000000  70775.000000      70775.000000  70775.000000\n",
       "mean    2017.498750      6.870392         37.416983      7.976136\n",
       "std        1.688319      8.074369         21.603230     48.518992\n",
       "min     2015.000000      1.000000          1.000000      0.000000\n",
       "25%     2016.000000      4.000000         19.000000      0.000000\n",
       "50%     2018.000000      7.000000         37.000000      0.000000\n",
       "75%     2019.000000      8.000000         56.000000      2.000000\n",
       "max     2020.000000     99.000000         99.000000   1603.000000"
      ]
     },
     "metadata": {},
     "output_type": "display_data"
    },
    {
     "name": "stdout",
     "output_type": "stream",
     "text": [
      "['Spain' 'Italy' 'Pakistan' 'China' 'France' 'Colombia' 'Morocco'\n",
      " 'Honduras' 'Venezuela' 'Peru' 'Brazil' 'India' 'Ecuador' 'Russia'\n",
      " 'Argentina' 'Bolivia' 'United States' 'Mexico' 'Dominican Republic'\n",
      " 'United Kingdom' 'Romania' 'Ukraine' 'Germany' 'Philippines' 'Chile'\n",
      " 'Portugal' 'Paraguay' 'Bangladesh' 'Netherlands' 'Georgia' 'Poland'\n",
      " 'Cuba' 'Japan' 'Sweden' 'Algeria' 'Bulgaria' 'El Salvador' 'Belgium'\n",
      " 'Turkey' 'Armenia' 'Uruguay' 'South Korea' 'Hungary' 'Senegal' 'Greece'\n",
      " 'Canada' 'Nepal' 'Egypt' 'Nicaragua' 'Ireland' 'Swiss' 'Syria'\n",
      " 'Guatemala' 'Nigeria' 'Costa Rica' 'Kazakhstan' 'Iran' 'Austria' 'Guinea'\n",
      " 'Finland' 'Panama' 'Denmark' 'Lebanon' 'Czech Republic' 'Norway'\n",
      " 'Lithuania' 'Australia' 'Ghana' 'Israel' 'Moldova' 'Serbia' 'Belarus'\n",
      " 'Latvia' 'Andorra' 'Albania' 'Slovakia' 'Croatia' 'Libya' 'Gambia'\n",
      " 'Equatorial Guinea' 'Azerbaijan' 'Slovenia' 'Cameroon' 'Saudi Arabia'\n",
      " 'Jordan' 'Estonia' 'Palestinian Territories (or Palestine)' 'Mali'\n",
      " 'Vietnam' 'Iceland' 'Tunisia' 'South Africa' 'Mauritania' 'Indonesia'\n",
      " 'Iraq' 'Thailand' 'Cyprus' 'Afghanistan' 'Singapore'\n",
      " 'Bosnia and Herzegovina' 'Kenya' 'North Macedonia' 'New Zealand'\n",
      " 'Guinea-Bissau' 'Malaysia' 'Mongolia' 'Uzbekistan' 'Angola' 'Ivory Coast'\n",
      " 'Kyrgyzstan' 'Montenegro' 'Haiti' 'Malta' 'Mozambique' 'Congo'\n",
      " 'Sri Lanka' 'Turkmenistan' 'Burkina Faso' 'Kuwait' 'Luxembourg'\n",
      " 'Tanzania' 'Zimbabwe' 'Benin' 'Dominica' 'Ethiopia' 'Yemen' 'Jamaica'\n",
      " 'Madagascar' 'Qatar' 'Somalia' 'Sudan' 'Togo' 'Uganda' 'Cape Verde'\n",
      " 'Gabon' 'Mauritius' 'Central African Republic' 'Rwanda' 'Bahrain'\n",
      " 'Barbados' 'Burundi' 'Cambodia' 'Djibouti' 'Grenada' 'Maldives' 'Namibia'\n",
      " 'Oman' 'Saint Kitts and Nevis' 'Seychelles' 'Sierra Leone' 'Swaziland'\n",
      " 'Taiwan, China' 'Trinidad and Tobago' 'NAN' 'United Arab Emirates'\n",
      " 'Myanmar' 'Zambia' 'Bahamas' 'North Korea' 'Guyana' 'Lesotho' 'Liberia'\n",
      " 'Niger' 'Puerto Rico' 'San Marino' 'São Tomé and Príncipe' 'Suriname'\n",
      " 'Tajikistan' 'Timor-Leste' 'Malawi' 'Eritrea' 'Chad' 'Botswana'\n",
      " 'Antigua and Barbuda' 'Lao' 'Solomon Islands' 'Liechtenstein'\n",
      " 'Saint Vincent and the Grenadines' 'Belize' 'Bhutan' 'Comoros'\n",
      " 'South Sudan' 'Democratic Republic of the Congo' 'Eswatini' 'Tonga']\n",
      "Time passed:  12.703809261322021\n"
     ]
    }
   ],
   "source": [
    "t0 = time.time()\n",
    "immigrationByNationalityDF.info()\n",
    "display(immigrationByNationalityDF.describe())\n",
    "list_of_nationality = immigrationByNationalityDF.nationality.unique()\n",
    "list_of_nationality_translated = { x : translate_ca_en(x) for x in list_of_nationality}\n",
    "\n",
    "# fixing errors in translation\n",
    "list_of_nationality_translated['Marroc, el'] = \"Morocco\"\n",
    "list_of_nationality_translated['Estats Units, els'] = \"United States\"\n",
    "list_of_nationality_translated[\"Iraq, l'\"] = \"Iraq\"\n",
    "list_of_nationality_translated['Macedònia'] = \"North Macedonia\"\n",
    "list_of_nationality_translated['Iemen, el'] = \"Yemen\"\n",
    "list_of_nationality_translated['Sudan, el'] = \"Sudan\"\n",
    "list_of_nationality_translated['No consta'] = \"NAN\"\n",
    "list_of_nationality_translated['Territoris Palestins [o Palestina]'] = 'Palestinian Territories (or Palestine)'  \n",
    "list_of_nationality_translated['Emirats Àrabs Units, els'] = \"United Arab Emirates\" \n",
    "list_of_nationality_translated['Bahames, les'] = \"Bahamas\"\n",
    "list_of_nationality_translated['Comores, les'] =  \"Comoros\"\n",
    "list_of_nationality_translated['Sudan del Sud, el'] = \"South Sudan\"\n",
    "list_of_nationality_translated['Swazilàndia'] =  \"Eswatini\"\n",
    "list_of_nationality_translated['Palestina'] = 'Palestinian Territories (or Palestine)'\n",
    "\n",
    "immigrationByNationalityDF['nationality'] = immigrationByNationalityDF['nationality'].map(list_of_nationality_translated)\n",
    "print(immigrationByNationalityDF.nationality.unique())\n",
    "print(\"Time passed: \", time.time()-t0)"
   ]
  },
  {
   "cell_type": "code",
   "execution_count": 6,
   "metadata": {},
   "outputs": [],
   "source": [
    "map_correct = {'Andalusia': 'Andalusia', 'Aragó': 'Aragó', \"Principat  d'Astúries\": \"Principat d'Astúries\", \n",
    "               'Illes Balears': 'Illes Balears', 'Canàries': 'Canàries', 'Cantàbria': 'Cantàbria', \n",
    "               'Castella i Lleó': 'Castella i Lleó', 'Castella-la Manxa': 'Castella-la Manxa', 'Catalunya': 'Catalunya',\n",
    "               'Comunitat Valenciana': 'Comunitat Valenciana', 'Extremadura': 'Extremadura', 'Galícia': 'Galícia', \n",
    "               'Comunitat de Madrid': 'Comunitat de Madrid', 'Regió de Múrcia': 'Regió de Múrcia', \n",
    "               'Comunitat Foral de Navarra': 'Comunitat Foral de Navarra', 'País Basc': 'País Basc',\n",
    "               'Rioja, La': 'Rioja, La', 'Ceuta': 'Ceuta', 'Melilla': 'Melilla', 'Estranger': 'Estranger',\n",
    "               \"Principat d'Astúries\": \"Principat d'Astúries\", 'Castella - la Manxa': 'Castella - la Manxa'}"
   ]
  },
  {
   "cell_type": "code",
   "execution_count": 7,
   "metadata": {},
   "outputs": [],
   "source": [
    "def translate_ca_es(word): return translator.translate(word,  src=\"ca\", dest=\"es\").text"
   ]
  },
  {
   "cell_type": "code",
   "execution_count": 8,
   "metadata": {},
   "outputs": [
    {
     "name": "stdout",
     "output_type": "stream",
     "text": [
      "<class 'pandas.core.frame.DataFrame'>\n",
      "RangeIndex: 8820 entries, 0 to 8819\n",
      "Data columns (total 7 columns):\n",
      " #   Column            Non-Null Count  Dtype \n",
      "---  ------            --------------  ----- \n",
      " 0   year              8820 non-null   int64 \n",
      " 1   districtCode      8820 non-null   int64 \n",
      " 2   districtName      8820 non-null   object\n",
      " 3   neighborhoodCode  8820 non-null   int64 \n",
      " 4   neighborhoodName  8820 non-null   object\n",
      " 5   placeOfOrigin     8820 non-null   object\n",
      " 6   count             8820 non-null   int64 \n",
      "dtypes: int64(4), object(3)\n",
      "memory usage: 482.5+ KB\n"
     ]
    },
    {
     "data": {
      "text/html": [
       "<div>\n",
       "<style scoped>\n",
       "    .dataframe tbody tr th:only-of-type {\n",
       "        vertical-align: middle;\n",
       "    }\n",
       "\n",
       "    .dataframe tbody tr th {\n",
       "        vertical-align: top;\n",
       "    }\n",
       "\n",
       "    .dataframe thead th {\n",
       "        text-align: right;\n",
       "    }\n",
       "</style>\n",
       "<table border=\"1\" class=\"dataframe\">\n",
       "  <thead>\n",
       "    <tr style=\"text-align: right;\">\n",
       "      <th></th>\n",
       "      <th>year</th>\n",
       "      <th>districtCode</th>\n",
       "      <th>neighborhoodCode</th>\n",
       "      <th>count</th>\n",
       "    </tr>\n",
       "  </thead>\n",
       "  <tbody>\n",
       "    <tr>\n",
       "      <th>count</th>\n",
       "      <td>8820.000000</td>\n",
       "      <td>8820.000000</td>\n",
       "      <td>8820.000000</td>\n",
       "      <td>8820.000000</td>\n",
       "    </tr>\n",
       "    <tr>\n",
       "      <th>mean</th>\n",
       "      <td>2017.489796</td>\n",
       "      <td>6.877551</td>\n",
       "      <td>37.421769</td>\n",
       "      <td>64.003515</td>\n",
       "    </tr>\n",
       "    <tr>\n",
       "      <th>std</th>\n",
       "      <td>1.707891</td>\n",
       "      <td>8.115197</td>\n",
       "      <td>21.610283</td>\n",
       "      <td>232.840794</td>\n",
       "    </tr>\n",
       "    <tr>\n",
       "      <th>min</th>\n",
       "      <td>2015.000000</td>\n",
       "      <td>1.000000</td>\n",
       "      <td>1.000000</td>\n",
       "      <td>0.000000</td>\n",
       "    </tr>\n",
       "    <tr>\n",
       "      <th>25%</th>\n",
       "      <td>2016.000000</td>\n",
       "      <td>4.000000</td>\n",
       "      <td>19.000000</td>\n",
       "      <td>1.000000</td>\n",
       "    </tr>\n",
       "    <tr>\n",
       "      <th>50%</th>\n",
       "      <td>2017.000000</td>\n",
       "      <td>7.000000</td>\n",
       "      <td>37.000000</td>\n",
       "      <td>6.000000</td>\n",
       "    </tr>\n",
       "    <tr>\n",
       "      <th>75%</th>\n",
       "      <td>2019.000000</td>\n",
       "      <td>8.000000</td>\n",
       "      <td>56.000000</td>\n",
       "      <td>19.000000</td>\n",
       "    </tr>\n",
       "    <tr>\n",
       "      <th>max</th>\n",
       "      <td>2020.000000</td>\n",
       "      <td>99.000000</td>\n",
       "      <td>99.000000</td>\n",
       "      <td>4199.000000</td>\n",
       "    </tr>\n",
       "  </tbody>\n",
       "</table>\n",
       "</div>"
      ],
      "text/plain": [
       "              year  districtCode  neighborhoodCode        count\n",
       "count  8820.000000   8820.000000       8820.000000  8820.000000\n",
       "mean   2017.489796      6.877551         37.421769    64.003515\n",
       "std       1.707891      8.115197         21.610283   232.840794\n",
       "min    2015.000000      1.000000          1.000000     0.000000\n",
       "25%    2016.000000      4.000000         19.000000     1.000000\n",
       "50%    2017.000000      7.000000         37.000000     6.000000\n",
       "75%    2019.000000      8.000000         56.000000    19.000000\n",
       "max    2020.000000     99.000000         99.000000  4199.000000"
      ]
     },
     "metadata": {},
     "output_type": "display_data"
    },
    {
     "name": "stdout",
     "output_type": "stream",
     "text": [
      "['Andalusia' 'Aragon' 'Principality of Asturias' 'Balearic islands'\n",
      " 'Canary Islands' 'Cantabria' 'Castile and Leon' 'Castilla-La Mancha'\n",
      " 'Catalonia' 'Valencian Community' 'Extremadura' 'Galicia'\n",
      " 'Community of Madrid' 'Region of Murcia' 'Foral Community of Navarre'\n",
      " 'Basque Country' 'La Rioja' 'Ceuta' 'Melilla' 'Stranger']\n",
      "['Andalucía' 'Aragó' 'Principado de Asturias' 'Islas Baleares' 'Canarias'\n",
      " 'Cantabria' 'Castilla y León' 'Castilla-La Mancha' 'Cataluña'\n",
      " 'Comunidad Valenciana' 'Extremadura' 'Galicia' 'Comunidad de Madrid'\n",
      " 'Región de Murcia' 'Comunidad Foral de Navarra' 'País Vasco' 'La Rioja'\n",
      " 'Ceuta' 'Melilla' 'Extranjero']\n"
     ]
    },
    {
     "data": {
      "text/html": [
       "<div>\n",
       "<style scoped>\n",
       "    .dataframe tbody tr th:only-of-type {\n",
       "        vertical-align: middle;\n",
       "    }\n",
       "\n",
       "    .dataframe tbody tr th {\n",
       "        vertical-align: top;\n",
       "    }\n",
       "\n",
       "    .dataframe thead th {\n",
       "        text-align: right;\n",
       "    }\n",
       "</style>\n",
       "<table border=\"1\" class=\"dataframe\">\n",
       "  <thead>\n",
       "    <tr style=\"text-align: right;\">\n",
       "      <th></th>\n",
       "      <th>year</th>\n",
       "      <th>districtCode</th>\n",
       "      <th>districtName</th>\n",
       "      <th>neighborhoodCode</th>\n",
       "      <th>neighborhoodName</th>\n",
       "      <th>placeOfOrigin</th>\n",
       "      <th>count</th>\n",
       "      <th>placeOfOriginENG</th>\n",
       "    </tr>\n",
       "  </thead>\n",
       "  <tbody>\n",
       "    <tr>\n",
       "      <th>0</th>\n",
       "      <td>2015</td>\n",
       "      <td>1</td>\n",
       "      <td>Ciutat Vella</td>\n",
       "      <td>1</td>\n",
       "      <td>el Raval</td>\n",
       "      <td>Andalucía</td>\n",
       "      <td>125</td>\n",
       "      <td>Andalusia</td>\n",
       "    </tr>\n",
       "    <tr>\n",
       "      <th>1</th>\n",
       "      <td>2015</td>\n",
       "      <td>1</td>\n",
       "      <td>Ciutat Vella</td>\n",
       "      <td>2</td>\n",
       "      <td>el Barri Gòtic</td>\n",
       "      <td>Andalucía</td>\n",
       "      <td>46</td>\n",
       "      <td>Andalusia</td>\n",
       "    </tr>\n",
       "    <tr>\n",
       "      <th>2</th>\n",
       "      <td>2015</td>\n",
       "      <td>1</td>\n",
       "      <td>Ciutat Vella</td>\n",
       "      <td>3</td>\n",
       "      <td>la Barceloneta</td>\n",
       "      <td>Andalucía</td>\n",
       "      <td>45</td>\n",
       "      <td>Andalusia</td>\n",
       "    </tr>\n",
       "    <tr>\n",
       "      <th>3</th>\n",
       "      <td>2015</td>\n",
       "      <td>1</td>\n",
       "      <td>Ciutat Vella</td>\n",
       "      <td>4</td>\n",
       "      <td>Sant Pere, Santa Caterina i la Ribera</td>\n",
       "      <td>Andalucía</td>\n",
       "      <td>58</td>\n",
       "      <td>Andalusia</td>\n",
       "    </tr>\n",
       "    <tr>\n",
       "      <th>4</th>\n",
       "      <td>2015</td>\n",
       "      <td>2</td>\n",
       "      <td>Eixample</td>\n",
       "      <td>5</td>\n",
       "      <td>el Fort Pienc</td>\n",
       "      <td>Andalucía</td>\n",
       "      <td>56</td>\n",
       "      <td>Andalusia</td>\n",
       "    </tr>\n",
       "  </tbody>\n",
       "</table>\n",
       "</div>"
      ],
      "text/plain": [
       "   year  districtCode  districtName  neighborhoodCode  \\\n",
       "0  2015             1  Ciutat Vella                 1   \n",
       "1  2015             1  Ciutat Vella                 2   \n",
       "2  2015             1  Ciutat Vella                 3   \n",
       "3  2015             1  Ciutat Vella                 4   \n",
       "4  2015             2      Eixample                 5   \n",
       "\n",
       "                        neighborhoodName placeOfOrigin  count placeOfOriginENG  \n",
       "0                               el Raval     Andalucía    125        Andalusia  \n",
       "1                         el Barri Gòtic     Andalucía     46        Andalusia  \n",
       "2                         la Barceloneta     Andalucía     45        Andalusia  \n",
       "3  Sant Pere, Santa Caterina i la Ribera     Andalucía     58        Andalusia  \n",
       "4                          el Fort Pienc     Andalucía     56        Andalusia  "
      ]
     },
     "metadata": {},
     "output_type": "display_data"
    },
    {
     "name": "stdout",
     "output_type": "stream",
     "text": [
      "Time passed:  2.9268131256103516\n"
     ]
    }
   ],
   "source": [
    "t0 = time.time()\n",
    "immigrationByPlaceOfOriginDF.info()\n",
    "display(immigrationByPlaceOfOriginDF.describe())\n",
    "list_of_PlaceOfOrigin = immigrationByPlaceOfOriginDF.placeOfOrigin.unique()\n",
    "list_of_PlaceOfOrigin_translatedSpanish = { x : translate_ca_es(x) for x in list_of_PlaceOfOrigin}\n",
    "list_of_PlaceOfOrigin_translatedEnglish = { x : translate_ca_en(x) for x in list_of_PlaceOfOrigin}\n",
    "list_of_PlaceOfOrigin_translatedSpanish['Rioja, La'] = \"La Rioja\"\n",
    "list_of_PlaceOfOrigin_translatedEnglish['Rioja, La'] = \"La Rioja\"\n",
    "list_of_PlaceOfOrigin_translatedSpanish['Extranjero'] = 'Foreigner'\n",
    "\n",
    "immigrationByPlaceOfOriginDF['placeOfOriginENG'] = immigrationByPlaceOfOriginDF['placeOfOrigin'].map(\n",
    "                                                                                list_of_PlaceOfOrigin_translatedEnglish)\n",
    "immigrationByPlaceOfOriginDF['placeOfOrigin'] = immigrationByPlaceOfOriginDF['placeOfOrigin'].map(\n",
    "                                                                                list_of_PlaceOfOrigin_translatedSpanish)\n",
    "\n",
    "print(immigrationByPlaceOfOriginDF['placeOfOriginENG'].unique())\n",
    "print(immigrationByPlaceOfOriginDF['placeOfOrigin'].unique())\n",
    "display(immigrationByPlaceOfOriginDF.head())\n",
    "print(\"Time passed: \", time.time()-t0)"
   ]
  },
  {
   "cell_type": "code",
   "execution_count": 9,
   "metadata": {},
   "outputs": [
    {
     "name": "stdout",
     "output_type": "stream",
     "text": [
      "{'0-4 anys': '0-4 years', '5-9 anys': '5-9 years', '10-14 anys': '10-14 years', '15-19 anys': '15-19 years', '20-24 anys': '20-24 years', '25-29 anys': '25-29 years', '30-34 anys': '30-34 years', '35-39 anys': '35-39 years', '40-44 anys': '40-44 years', '45-49 anys': '45-49 years', '50-54 anys': '50-54 years', '55-59 anys': '55-59 years', '60-64 anys': '60-64 years', '65-69 anys': '65-69 years', '70-74 anys': '70-74 years', '75-79 anys': '75-79 years', '80-84 anys': '80-84 years', '85-89 anys': '85-89 years', '90-94 anys': '90-94 years', '95-99 anys': '95-99 years', '100 anys i més': '100 years and over', 'No consta': 'It is not clear'}\n"
     ]
    }
   ],
   "source": [
    "list_of_age = immigrationBy5YearAgeDF[\"5YearAge\"].unique()\n",
    "list_of_age_translated = { x : translate_ca_en(x) for x in list_of_age}\n",
    "print(list_of_age_translated)"
   ]
  },
  {
   "cell_type": "code",
   "execution_count": 10,
   "metadata": {},
   "outputs": [
    {
     "name": "stdout",
     "output_type": "stream",
     "text": [
      "<class 'pandas.core.frame.DataFrame'>\n",
      "RangeIndex: 9334 entries, 0 to 9333\n",
      "Data columns (total 7 columns):\n",
      " #   Column            Non-Null Count  Dtype \n",
      "---  ------            --------------  ----- \n",
      " 0   year              9334 non-null   int64 \n",
      " 1   districtCode      9334 non-null   int64 \n",
      " 2   districtName      9334 non-null   object\n",
      " 3   neighborhoodCode  9334 non-null   int64 \n",
      " 4   neighborhoodName  9334 non-null   object\n",
      " 5   5YearAge          9334 non-null   object\n",
      " 6   count             9334 non-null   int64 \n",
      "dtypes: int64(4), object(3)\n",
      "memory usage: 510.6+ KB\n"
     ]
    },
    {
     "data": {
      "text/html": [
       "<div>\n",
       "<style scoped>\n",
       "    .dataframe tbody tr th:only-of-type {\n",
       "        vertical-align: middle;\n",
       "    }\n",
       "\n",
       "    .dataframe tbody tr th {\n",
       "        vertical-align: top;\n",
       "    }\n",
       "\n",
       "    .dataframe thead th {\n",
       "        text-align: right;\n",
       "    }\n",
       "</style>\n",
       "<table border=\"1\" class=\"dataframe\">\n",
       "  <thead>\n",
       "    <tr style=\"text-align: right;\">\n",
       "      <th></th>\n",
       "      <th>year</th>\n",
       "      <th>districtCode</th>\n",
       "      <th>neighborhoodCode</th>\n",
       "      <th>count</th>\n",
       "    </tr>\n",
       "  </thead>\n",
       "  <tbody>\n",
       "    <tr>\n",
       "      <th>count</th>\n",
       "      <td>9334.000000</td>\n",
       "      <td>9334.000000</td>\n",
       "      <td>9334.000000</td>\n",
       "      <td>9334.000000</td>\n",
       "    </tr>\n",
       "    <tr>\n",
       "      <th>mean</th>\n",
       "      <td>2017.493786</td>\n",
       "      <td>6.872616</td>\n",
       "      <td>37.418470</td>\n",
       "      <td>60.478787</td>\n",
       "    </tr>\n",
       "    <tr>\n",
       "      <th>std</th>\n",
       "      <td>1.701788</td>\n",
       "      <td>8.087327</td>\n",
       "      <td>21.606093</td>\n",
       "      <td>116.193854</td>\n",
       "    </tr>\n",
       "    <tr>\n",
       "      <th>min</th>\n",
       "      <td>2015.000000</td>\n",
       "      <td>1.000000</td>\n",
       "      <td>1.000000</td>\n",
       "      <td>0.000000</td>\n",
       "    </tr>\n",
       "    <tr>\n",
       "      <th>25%</th>\n",
       "      <td>2016.000000</td>\n",
       "      <td>4.000000</td>\n",
       "      <td>19.000000</td>\n",
       "      <td>4.000000</td>\n",
       "    </tr>\n",
       "    <tr>\n",
       "      <th>50%</th>\n",
       "      <td>2018.000000</td>\n",
       "      <td>7.000000</td>\n",
       "      <td>37.000000</td>\n",
       "      <td>21.000000</td>\n",
       "    </tr>\n",
       "    <tr>\n",
       "      <th>75%</th>\n",
       "      <td>2019.000000</td>\n",
       "      <td>8.000000</td>\n",
       "      <td>56.000000</td>\n",
       "      <td>65.000000</td>\n",
       "    </tr>\n",
       "    <tr>\n",
       "      <th>max</th>\n",
       "      <td>2020.000000</td>\n",
       "      <td>99.000000</td>\n",
       "      <td>99.000000</td>\n",
       "      <td>1526.000000</td>\n",
       "    </tr>\n",
       "  </tbody>\n",
       "</table>\n",
       "</div>"
      ],
      "text/plain": [
       "              year  districtCode  neighborhoodCode        count\n",
       "count  9334.000000   9334.000000       9334.000000  9334.000000\n",
       "mean   2017.493786      6.872616         37.418470    60.478787\n",
       "std       1.701788      8.087327         21.606093   116.193854\n",
       "min    2015.000000      1.000000          1.000000     0.000000\n",
       "25%    2016.000000      4.000000         19.000000     4.000000\n",
       "50%    2018.000000      7.000000         37.000000    21.000000\n",
       "75%    2019.000000      8.000000         56.000000    65.000000\n",
       "max    2020.000000     99.000000         99.000000  1526.000000"
      ]
     },
     "metadata": {},
     "output_type": "display_data"
    },
    {
     "name": "stdout",
     "output_type": "stream",
     "text": [
      "['0-4' '5-9' '10-14' '15-19' '20-24' '25-29' '30-34' '35-39' '40-44'\n",
      " '45-49' '50-54' '55-59' '60-64' '65-69' '70-74' '75-79' '80-84' '85-89'\n",
      " '90-94' '95-99' '100+' 'NaN']\n"
     ]
    },
    {
     "data": {
      "text/html": [
       "<div>\n",
       "<style scoped>\n",
       "    .dataframe tbody tr th:only-of-type {\n",
       "        vertical-align: middle;\n",
       "    }\n",
       "\n",
       "    .dataframe tbody tr th {\n",
       "        vertical-align: top;\n",
       "    }\n",
       "\n",
       "    .dataframe thead th {\n",
       "        text-align: right;\n",
       "    }\n",
       "</style>\n",
       "<table border=\"1\" class=\"dataframe\">\n",
       "  <thead>\n",
       "    <tr style=\"text-align: right;\">\n",
       "      <th></th>\n",
       "      <th>year</th>\n",
       "      <th>districtCode</th>\n",
       "      <th>districtName</th>\n",
       "      <th>neighborhoodCode</th>\n",
       "      <th>neighborhoodName</th>\n",
       "      <th>5YearAge</th>\n",
       "      <th>count</th>\n",
       "    </tr>\n",
       "  </thead>\n",
       "  <tbody>\n",
       "    <tr>\n",
       "      <th>0</th>\n",
       "      <td>2015</td>\n",
       "      <td>1</td>\n",
       "      <td>Ciutat Vella</td>\n",
       "      <td>1</td>\n",
       "      <td>el Raval</td>\n",
       "      <td>0-4</td>\n",
       "      <td>165</td>\n",
       "    </tr>\n",
       "    <tr>\n",
       "      <th>1</th>\n",
       "      <td>2015</td>\n",
       "      <td>1</td>\n",
       "      <td>Ciutat Vella</td>\n",
       "      <td>2</td>\n",
       "      <td>el Barri Gòtic</td>\n",
       "      <td>0-4</td>\n",
       "      <td>49</td>\n",
       "    </tr>\n",
       "    <tr>\n",
       "      <th>2</th>\n",
       "      <td>2015</td>\n",
       "      <td>1</td>\n",
       "      <td>Ciutat Vella</td>\n",
       "      <td>3</td>\n",
       "      <td>la Barceloneta</td>\n",
       "      <td>0-4</td>\n",
       "      <td>36</td>\n",
       "    </tr>\n",
       "    <tr>\n",
       "      <th>3</th>\n",
       "      <td>2015</td>\n",
       "      <td>1</td>\n",
       "      <td>Ciutat Vella</td>\n",
       "      <td>4</td>\n",
       "      <td>Sant Pere, Santa Caterina i la Ribera</td>\n",
       "      <td>0-4</td>\n",
       "      <td>64</td>\n",
       "    </tr>\n",
       "    <tr>\n",
       "      <th>4</th>\n",
       "      <td>2015</td>\n",
       "      <td>2</td>\n",
       "      <td>Eixample</td>\n",
       "      <td>5</td>\n",
       "      <td>el Fort Pienc</td>\n",
       "      <td>0-4</td>\n",
       "      <td>78</td>\n",
       "    </tr>\n",
       "  </tbody>\n",
       "</table>\n",
       "</div>"
      ],
      "text/plain": [
       "   year  districtCode  districtName  neighborhoodCode  \\\n",
       "0  2015             1  Ciutat Vella                 1   \n",
       "1  2015             1  Ciutat Vella                 2   \n",
       "2  2015             1  Ciutat Vella                 3   \n",
       "3  2015             1  Ciutat Vella                 4   \n",
       "4  2015             2      Eixample                 5   \n",
       "\n",
       "                        neighborhoodName 5YearAge  count  \n",
       "0                               el Raval      0-4    165  \n",
       "1                         el Barri Gòtic      0-4     49  \n",
       "2                         la Barceloneta      0-4     36  \n",
       "3  Sant Pere, Santa Caterina i la Ribera      0-4     64  \n",
       "4                          el Fort Pienc      0-4     78  "
      ]
     },
     "metadata": {},
     "output_type": "display_data"
    },
    {
     "name": "stdout",
     "output_type": "stream",
     "text": [
      "Time passed:  0.04687309265136719\n"
     ]
    }
   ],
   "source": [
    "t0 = time.time()\n",
    "immigrationBy5YearAgeDF.info()\n",
    "display(immigrationBy5YearAgeDF.describe())\n",
    "\n",
    "mapAge = {  '0-4 anys': '0-4',\n",
    "            '5-9 anys': '5-9',\n",
    "            '10-14 anys': '10-14',\n",
    "            '15-19 anys': '15-19',\n",
    "            '20-24 anys': '20-24',\n",
    "            '25-29 anys': '25-29',\n",
    "            '30-34 anys': '30-34',\n",
    "            '35-39 anys': '35-39',\n",
    "            '40-44 anys': '40-44',\n",
    "            '45-49 anys': '45-49',\n",
    "            '50-54 anys': '50-54',\n",
    "            '55-59 anys': '55-59',\n",
    "            '60-64 anys': '60-64',\n",
    "            '65-69 anys': '65-69',\n",
    "            '70-74 anys': '70-74',\n",
    "            '75-79 anys': '75-79',\n",
    "            '80-84 anys': '80-84',\n",
    "            '85-89 anys': '85-89',\n",
    "            '90-94 anys': '90-94',\n",
    "            '95-99 anys': '95-99',\n",
    "            '100 anys i més': '100+',\n",
    "            'No consta': 'NaN'}\n",
    "\n",
    "immigrationBy5YearAgeDF[\"5YearAge\"] = immigrationBy5YearAgeDF[\"5YearAge\"].map(mapAge)\n",
    "\n",
    "print(immigrationBy5YearAgeDF[\"5YearAge\"].unique())\n",
    "display(immigrationBy5YearAgeDF.head())\n",
    "print(\"Time passed: \", time.time()-t0)"
   ]
  },
  {
   "cell_type": "code",
   "execution_count": 11,
   "metadata": {},
   "outputs": [
    {
     "name": "stdout",
     "output_type": "stream",
     "text": [
      "<class 'pandas.core.frame.DataFrame'>\n",
      "RangeIndex: 882 entries, 0 to 881\n",
      "Data columns (total 7 columns):\n",
      " #   Column            Non-Null Count  Dtype \n",
      "---  ------            --------------  ----- \n",
      " 0   year              882 non-null    int64 \n",
      " 1   districtCode      882 non-null    int64 \n",
      " 2   districtName      882 non-null    object\n",
      " 3   neighborhoodCode  882 non-null    int64 \n",
      " 4   neighborhoodName  882 non-null    object\n",
      " 5   sex               882 non-null    object\n",
      " 6   count             882 non-null    int64 \n",
      "dtypes: int64(4), object(3)\n",
      "memory usage: 48.4+ KB\n"
     ]
    },
    {
     "data": {
      "text/html": [
       "<div>\n",
       "<style scoped>\n",
       "    .dataframe tbody tr th:only-of-type {\n",
       "        vertical-align: middle;\n",
       "    }\n",
       "\n",
       "    .dataframe tbody tr th {\n",
       "        vertical-align: top;\n",
       "    }\n",
       "\n",
       "    .dataframe thead th {\n",
       "        text-align: right;\n",
       "    }\n",
       "</style>\n",
       "<table border=\"1\" class=\"dataframe\">\n",
       "  <thead>\n",
       "    <tr style=\"text-align: right;\">\n",
       "      <th></th>\n",
       "      <th>year</th>\n",
       "      <th>districtCode</th>\n",
       "      <th>neighborhoodCode</th>\n",
       "      <th>count</th>\n",
       "    </tr>\n",
       "  </thead>\n",
       "  <tbody>\n",
       "    <tr>\n",
       "      <th>count</th>\n",
       "      <td>882.000000</td>\n",
       "      <td>882.000000</td>\n",
       "      <td>882.000000</td>\n",
       "      <td>882.000000</td>\n",
       "    </tr>\n",
       "    <tr>\n",
       "      <th>mean</th>\n",
       "      <td>2017.489796</td>\n",
       "      <td>6.877551</td>\n",
       "      <td>37.421769</td>\n",
       "      <td>640.035147</td>\n",
       "    </tr>\n",
       "    <tr>\n",
       "      <th>std</th>\n",
       "      <td>1.708764</td>\n",
       "      <td>8.119341</td>\n",
       "      <td>21.621318</td>\n",
       "      <td>544.377642</td>\n",
       "    </tr>\n",
       "    <tr>\n",
       "      <th>min</th>\n",
       "      <td>2015.000000</td>\n",
       "      <td>1.000000</td>\n",
       "      <td>1.000000</td>\n",
       "      <td>1.000000</td>\n",
       "    </tr>\n",
       "    <tr>\n",
       "      <th>25%</th>\n",
       "      <td>2016.000000</td>\n",
       "      <td>4.000000</td>\n",
       "      <td>19.000000</td>\n",
       "      <td>253.250000</td>\n",
       "    </tr>\n",
       "    <tr>\n",
       "      <th>50%</th>\n",
       "      <td>2017.000000</td>\n",
       "      <td>7.000000</td>\n",
       "      <td>37.000000</td>\n",
       "      <td>507.000000</td>\n",
       "    </tr>\n",
       "    <tr>\n",
       "      <th>75%</th>\n",
       "      <td>2019.000000</td>\n",
       "      <td>8.000000</td>\n",
       "      <td>56.000000</td>\n",
       "      <td>874.000000</td>\n",
       "    </tr>\n",
       "    <tr>\n",
       "      <th>max</th>\n",
       "      <td>2020.000000</td>\n",
       "      <td>99.000000</td>\n",
       "      <td>99.000000</td>\n",
       "      <td>3536.000000</td>\n",
       "    </tr>\n",
       "  </tbody>\n",
       "</table>\n",
       "</div>"
      ],
      "text/plain": [
       "              year  districtCode  neighborhoodCode        count\n",
       "count   882.000000    882.000000        882.000000   882.000000\n",
       "mean   2017.489796      6.877551         37.421769   640.035147\n",
       "std       1.708764      8.119341         21.621318   544.377642\n",
       "min    2015.000000      1.000000          1.000000     1.000000\n",
       "25%    2016.000000      4.000000         19.000000   253.250000\n",
       "50%    2017.000000      7.000000         37.000000   507.000000\n",
       "75%    2019.000000      8.000000         56.000000   874.000000\n",
       "max    2020.000000     99.000000         99.000000  3536.000000"
      ]
     },
     "metadata": {},
     "output_type": "display_data"
    },
    {
     "name": "stdout",
     "output_type": "stream",
     "text": [
      "['Male' 'Female']\n"
     ]
    },
    {
     "data": {
      "text/html": [
       "<div>\n",
       "<style scoped>\n",
       "    .dataframe tbody tr th:only-of-type {\n",
       "        vertical-align: middle;\n",
       "    }\n",
       "\n",
       "    .dataframe tbody tr th {\n",
       "        vertical-align: top;\n",
       "    }\n",
       "\n",
       "    .dataframe thead th {\n",
       "        text-align: right;\n",
       "    }\n",
       "</style>\n",
       "<table border=\"1\" class=\"dataframe\">\n",
       "  <thead>\n",
       "    <tr style=\"text-align: right;\">\n",
       "      <th></th>\n",
       "      <th>year</th>\n",
       "      <th>districtCode</th>\n",
       "      <th>districtName</th>\n",
       "      <th>neighborhoodCode</th>\n",
       "      <th>neighborhoodName</th>\n",
       "      <th>sex</th>\n",
       "      <th>count</th>\n",
       "    </tr>\n",
       "  </thead>\n",
       "  <tbody>\n",
       "    <tr>\n",
       "      <th>0</th>\n",
       "      <td>2015</td>\n",
       "      <td>1</td>\n",
       "      <td>Ciutat Vella</td>\n",
       "      <td>1</td>\n",
       "      <td>el Raval</td>\n",
       "      <td>Male</td>\n",
       "      <td>3219</td>\n",
       "    </tr>\n",
       "    <tr>\n",
       "      <th>1</th>\n",
       "      <td>2015</td>\n",
       "      <td>1</td>\n",
       "      <td>Ciutat Vella</td>\n",
       "      <td>2</td>\n",
       "      <td>el Barri Gòtic</td>\n",
       "      <td>Male</td>\n",
       "      <td>1164</td>\n",
       "    </tr>\n",
       "    <tr>\n",
       "      <th>2</th>\n",
       "      <td>2015</td>\n",
       "      <td>1</td>\n",
       "      <td>Ciutat Vella</td>\n",
       "      <td>3</td>\n",
       "      <td>la Barceloneta</td>\n",
       "      <td>Male</td>\n",
       "      <td>808</td>\n",
       "    </tr>\n",
       "    <tr>\n",
       "      <th>3</th>\n",
       "      <td>2015</td>\n",
       "      <td>1</td>\n",
       "      <td>Ciutat Vella</td>\n",
       "      <td>4</td>\n",
       "      <td>Sant Pere, Santa Caterina i la Ribera</td>\n",
       "      <td>Male</td>\n",
       "      <td>1302</td>\n",
       "    </tr>\n",
       "    <tr>\n",
       "      <th>4</th>\n",
       "      <td>2015</td>\n",
       "      <td>2</td>\n",
       "      <td>Eixample</td>\n",
       "      <td>5</td>\n",
       "      <td>el Fort Pienc</td>\n",
       "      <td>Male</td>\n",
       "      <td>999</td>\n",
       "    </tr>\n",
       "  </tbody>\n",
       "</table>\n",
       "</div>"
      ],
      "text/plain": [
       "   year  districtCode  districtName  neighborhoodCode  \\\n",
       "0  2015             1  Ciutat Vella                 1   \n",
       "1  2015             1  Ciutat Vella                 2   \n",
       "2  2015             1  Ciutat Vella                 3   \n",
       "3  2015             1  Ciutat Vella                 4   \n",
       "4  2015             2      Eixample                 5   \n",
       "\n",
       "                        neighborhoodName   sex  count  \n",
       "0                               el Raval  Male   3219  \n",
       "1                         el Barri Gòtic  Male   1164  \n",
       "2                         la Barceloneta  Male    808  \n",
       "3  Sant Pere, Santa Caterina i la Ribera  Male   1302  \n",
       "4                          el Fort Pienc  Male    999  "
      ]
     },
     "metadata": {},
     "output_type": "display_data"
    },
    {
     "name": "stdout",
     "output_type": "stream",
     "text": [
      "Time passed:  0.03192138671875\n"
     ]
    }
   ],
   "source": [
    "t0 = time.time()\n",
    "immigrationBySexDF.info()\n",
    "display(immigrationBySexDF.describe())\n",
    "dictionary_of_gender_map  = {'Homes': 'Male', 'Dones': 'Female', 'Home': 'Male', 'Dona': 'Female'}\n",
    "immigrationBySexDF['sex'] = immigrationBySexDF['sex'].map(dictionary_of_gender_map)\n",
    "\n",
    "print(immigrationBySexDF['sex'].unique())\n",
    "display(immigrationBySexDF.head())\n",
    "print(\"Time passed: \", time.time()-t0)\n"
   ]
  },
  {
   "cell_type": "code",
   "execution_count": 12,
   "metadata": {},
   "outputs": [
    {
     "name": "stdout",
     "output_type": "stream",
     "text": [
      "<class 'pandas.core.frame.DataFrame'>\n",
      "RangeIndex: 58722 entries, 0 to 58721\n",
      "Data columns (total 7 columns):\n",
      " #   Column            Non-Null Count  Dtype \n",
      "---  ------            --------------  ----- \n",
      " 0   year              58722 non-null  int64 \n",
      " 1   districtCode      58722 non-null  int64 \n",
      " 2   districtName      58722 non-null  object\n",
      " 3   neighborhoodCode  58722 non-null  int64 \n",
      " 4   neighborhoodName  58722 non-null  object\n",
      " 5   nationality       58722 non-null  object\n",
      " 6   count             58722 non-null  int64 \n",
      "dtypes: int64(4), object(3)\n",
      "memory usage: 3.1+ MB\n"
     ]
    },
    {
     "data": {
      "text/html": [
       "<div>\n",
       "<style scoped>\n",
       "    .dataframe tbody tr th:only-of-type {\n",
       "        vertical-align: middle;\n",
       "    }\n",
       "\n",
       "    .dataframe tbody tr th {\n",
       "        vertical-align: top;\n",
       "    }\n",
       "\n",
       "    .dataframe thead th {\n",
       "        text-align: right;\n",
       "    }\n",
       "</style>\n",
       "<table border=\"1\" class=\"dataframe\">\n",
       "  <thead>\n",
       "    <tr style=\"text-align: right;\">\n",
       "      <th></th>\n",
       "      <th>year</th>\n",
       "      <th>districtCode</th>\n",
       "      <th>neighborhoodCode</th>\n",
       "      <th>count</th>\n",
       "    </tr>\n",
       "  </thead>\n",
       "  <tbody>\n",
       "    <tr>\n",
       "      <th>count</th>\n",
       "      <td>58722.000000</td>\n",
       "      <td>58722.000000</td>\n",
       "      <td>58722.000000</td>\n",
       "      <td>58722.000000</td>\n",
       "    </tr>\n",
       "    <tr>\n",
       "      <th>mean</th>\n",
       "      <td>2017.506778</td>\n",
       "      <td>6.870491</td>\n",
       "      <td>37.417050</td>\n",
       "      <td>5.793502</td>\n",
       "    </tr>\n",
       "    <tr>\n",
       "      <th>std</th>\n",
       "      <td>1.694351</td>\n",
       "      <td>8.074944</td>\n",
       "      <td>21.603344</td>\n",
       "      <td>54.090470</td>\n",
       "    </tr>\n",
       "    <tr>\n",
       "      <th>min</th>\n",
       "      <td>2015.000000</td>\n",
       "      <td>1.000000</td>\n",
       "      <td>1.000000</td>\n",
       "      <td>0.000000</td>\n",
       "    </tr>\n",
       "    <tr>\n",
       "      <th>25%</th>\n",
       "      <td>2016.000000</td>\n",
       "      <td>4.000000</td>\n",
       "      <td>19.000000</td>\n",
       "      <td>0.000000</td>\n",
       "    </tr>\n",
       "    <tr>\n",
       "      <th>50%</th>\n",
       "      <td>2018.000000</td>\n",
       "      <td>7.000000</td>\n",
       "      <td>37.000000</td>\n",
       "      <td>0.000000</td>\n",
       "    </tr>\n",
       "    <tr>\n",
       "      <th>75%</th>\n",
       "      <td>2019.000000</td>\n",
       "      <td>8.000000</td>\n",
       "      <td>56.000000</td>\n",
       "      <td>1.000000</td>\n",
       "    </tr>\n",
       "    <tr>\n",
       "      <th>max</th>\n",
       "      <td>2020.000000</td>\n",
       "      <td>99.000000</td>\n",
       "      <td>99.000000</td>\n",
       "      <td>1569.000000</td>\n",
       "    </tr>\n",
       "  </tbody>\n",
       "</table>\n",
       "</div>"
      ],
      "text/plain": [
       "               year  districtCode  neighborhoodCode         count\n",
       "count  58722.000000  58722.000000      58722.000000  58722.000000\n",
       "mean    2017.506778      6.870491         37.417050      5.793502\n",
       "std        1.694351      8.074944         21.603344     54.090470\n",
       "min     2015.000000      1.000000          1.000000      0.000000\n",
       "25%     2016.000000      4.000000         19.000000      0.000000\n",
       "50%     2018.000000      7.000000         37.000000      0.000000\n",
       "75%     2019.000000      8.000000         56.000000      1.000000\n",
       "max     2020.000000     99.000000         99.000000   1569.000000"
      ]
     },
     "metadata": {},
     "output_type": "display_data"
    },
    {
     "name": "stdout",
     "output_type": "stream",
     "text": [
      "164\n",
      "159\n",
      "['Spain' 'Pakistan' 'China' 'Morocco' 'Italy' 'Dominican Republic'\n",
      " 'Bolivia' 'India' 'Honduras' 'Colombia' 'Ecuador' 'Peru' 'Russia'\n",
      " 'Brazil' 'Venezuela' 'France' 'Argentina' 'Romania' 'Paraguay' 'Ukraine'\n",
      " 'Germany' 'Bangladesh' 'United Kingdom' 'Mexico' 'Georgia' 'Cuba' 'Chile'\n",
      " 'Portugal' 'Philippines' 'United States' 'Senegal' 'Uruguay'\n",
      " 'Netherlands' 'Algeria' 'Poland' 'Armenia' 'Nepal' 'Bulgaria' 'Nigeria'\n",
      " 'El Salvador' 'Ghana' 'Belgium' 'Moldova' 'Nicaragua' 'Hungary' 'Swiss'\n",
      " 'Japan' 'Sweden' 'Ireland' 'Canada' 'Andorra' 'Syria' 'Greece' 'Turkey'\n",
      " 'Austria' 'Lithuania' 'Czech Republic' 'Iran' 'Guinea' 'South Korea'\n",
      " 'Cameroon' 'Gambia' 'Belarus' 'Norway' 'Egypt' 'Finland'\n",
      " 'Equatorial Guinea' 'Serbia' 'Slovakia' 'Panama' 'Denmark' 'Israel'\n",
      " 'Lebanon' 'Costa Rica' 'Guatemala' 'Mali' 'Albania' 'South Africa'\n",
      " 'Tunisia' 'Latvia' 'Afghanistan' 'Vietnam' 'Australia' 'Estonia'\n",
      " 'Ivory Coast' 'Guinea-Bissau' 'Jordan' 'Kazakhstan' 'Kenya' 'Congo'\n",
      " 'Croatia' 'Libya' 'Mauritania' 'Haiti' 'Indonesia' 'Iceland'\n",
      " 'North Macedonia' 'Togo' 'Uzbekistan' 'New Zealand' 'Sierra Leone'\n",
      " 'Tajikistan' 'Dominica' 'Iraq' 'Mongolia'\n",
      " 'Palestinian Territories (or Palestine)' 'Azerbaijan' 'Burkina Faso'\n",
      " 'Slovenia' 'Liberia' 'Somalia' 'Sudan' 'Thailand' 'Angola' 'Ethiopia'\n",
      " 'Kyrgyzstan' 'Kuwait' 'Luxembourg' 'Madagascar' 'Malta' 'Mozambique'\n",
      " 'Montenegro' 'Central African Republic' 'Rwanda' 'Sri Lanka' 'Cyprus'\n",
      " 'Zambia' 'Zimbabwe' 'NAN' 'Bosnia and Herzegovina' 'Benin' 'Tanzania'\n",
      " 'Saudi Arabia' 'Myanmar' 'Singapore' 'Mauritius' 'Niger' 'Jamaica'\n",
      " 'Saint Kitts and Nevis' 'Gabon' 'Qatar' 'Uganda' 'Trinidad and Tobago'\n",
      " 'Burundi' 'Cape Verde' 'Malaysia' 'Cambodia' 'Malawi' 'Botswana'\n",
      " 'Eritrea' 'Seychelles' 'Turkmenistan' 'Chad' 'Yemen' 'Belize' 'Guyana'\n",
      " 'Saint Vincent and the Grenadines' 'Lao' 'Oman']\n"
     ]
    },
    {
     "data": {
      "text/html": [
       "<div>\n",
       "<style scoped>\n",
       "    .dataframe tbody tr th:only-of-type {\n",
       "        vertical-align: middle;\n",
       "    }\n",
       "\n",
       "    .dataframe tbody tr th {\n",
       "        vertical-align: top;\n",
       "    }\n",
       "\n",
       "    .dataframe thead th {\n",
       "        text-align: right;\n",
       "    }\n",
       "</style>\n",
       "<table border=\"1\" class=\"dataframe\">\n",
       "  <thead>\n",
       "    <tr style=\"text-align: right;\">\n",
       "      <th></th>\n",
       "      <th>year</th>\n",
       "      <th>districtCode</th>\n",
       "      <th>districtName</th>\n",
       "      <th>neighborhoodCode</th>\n",
       "      <th>neighborhoodName</th>\n",
       "      <th>nationality</th>\n",
       "      <th>count</th>\n",
       "    </tr>\n",
       "  </thead>\n",
       "  <tbody>\n",
       "    <tr>\n",
       "      <th>0</th>\n",
       "      <td>2015</td>\n",
       "      <td>1</td>\n",
       "      <td>Ciutat Vella</td>\n",
       "      <td>1</td>\n",
       "      <td>el Raval</td>\n",
       "      <td>Spain</td>\n",
       "      <td>1039</td>\n",
       "    </tr>\n",
       "    <tr>\n",
       "      <th>1</th>\n",
       "      <td>2015</td>\n",
       "      <td>1</td>\n",
       "      <td>Ciutat Vella</td>\n",
       "      <td>2</td>\n",
       "      <td>el Barri Gòtic</td>\n",
       "      <td>Spain</td>\n",
       "      <td>386</td>\n",
       "    </tr>\n",
       "    <tr>\n",
       "      <th>2</th>\n",
       "      <td>2015</td>\n",
       "      <td>1</td>\n",
       "      <td>Ciutat Vella</td>\n",
       "      <td>3</td>\n",
       "      <td>la Barceloneta</td>\n",
       "      <td>Spain</td>\n",
       "      <td>380</td>\n",
       "    </tr>\n",
       "    <tr>\n",
       "      <th>3</th>\n",
       "      <td>2015</td>\n",
       "      <td>1</td>\n",
       "      <td>Ciutat Vella</td>\n",
       "      <td>4</td>\n",
       "      <td>Sant Pere, Santa Caterina i la Ribera</td>\n",
       "      <td>Spain</td>\n",
       "      <td>613</td>\n",
       "    </tr>\n",
       "    <tr>\n",
       "      <th>4</th>\n",
       "      <td>2015</td>\n",
       "      <td>2</td>\n",
       "      <td>Eixample</td>\n",
       "      <td>5</td>\n",
       "      <td>el Fort Pienc</td>\n",
       "      <td>Spain</td>\n",
       "      <td>669</td>\n",
       "    </tr>\n",
       "  </tbody>\n",
       "</table>\n",
       "</div>"
      ],
      "text/plain": [
       "   year  districtCode  districtName  neighborhoodCode  \\\n",
       "0  2015             1  Ciutat Vella                 1   \n",
       "1  2015             1  Ciutat Vella                 2   \n",
       "2  2015             1  Ciutat Vella                 3   \n",
       "3  2015             1  Ciutat Vella                 4   \n",
       "4  2015             2      Eixample                 5   \n",
       "\n",
       "                        neighborhoodName nationality  count  \n",
       "0                               el Raval       Spain   1039  \n",
       "1                         el Barri Gòtic       Spain    386  \n",
       "2                         la Barceloneta       Spain    380  \n",
       "3  Sant Pere, Santa Caterina i la Ribera       Spain    613  \n",
       "4                          el Fort Pienc       Spain    669  "
      ]
     },
     "metadata": {},
     "output_type": "display_data"
    },
    {
     "name": "stdout",
     "output_type": "stream",
     "text": [
      "Time passed:  10.866076707839966\n"
     ]
    }
   ],
   "source": [
    "t0 = time.time()\n",
    "emigrationByNationalityDF.info()\n",
    "display(emigrationByNationalityDF.describe())\n",
    "list2_of_nationality = emigrationByNationalityDF.nationality.unique()\n",
    "list2_of_nationality_translated = { x : translate_ca_en(x) for x in list2_of_nationality}\n",
    "\n",
    "# fixing errors in translation\n",
    "list2_of_nationality_translated['Marroc, el'] = \"Morocco\"\n",
    "list2_of_nationality_translated['Estats Units, els'] = \"United States\"\n",
    "list2_of_nationality_translated[\"Iraq, l'\"] = \"Iraq\"\n",
    "list2_of_nationality_translated['Macedònia'] = \"North Macedonia\"\n",
    "list2_of_nationality_translated['Iemen, el'] = \"Yemen\"\n",
    "list2_of_nationality_translated['Sudan, el'] = \"Sudan\"\n",
    "list2_of_nationality_translated['No consta'] = \"NAN\"\n",
    "list2_of_nationality_translated['Territoris Palestins [o Palestina]'] = 'Palestinian Territories (or Palestine)'  \n",
    "list2_of_nationality_translated['Palestina'] = 'Palestinian Territories (or Palestine)'\n",
    "\n",
    "#map translations\n",
    "emigrationByNationalityDF['nationality'] = emigrationByNationalityDF['nationality'].map(list2_of_nationality_translated)\n",
    "\n",
    "print(len(list2_of_nationality))\n",
    "print(len(emigrationByNationalityDF.nationality.unique()))\n",
    "print(emigrationByNationalityDF.nationality.unique())\n",
    "display(emigrationByNationalityDF.head())\n",
    "print(\"Time passed: \", time.time()-t0)"
   ]
  },
  {
   "cell_type": "code",
   "execution_count": 13,
   "metadata": {},
   "outputs": [
    {
     "name": "stdout",
     "output_type": "stream",
     "text": [
      "<class 'pandas.core.frame.DataFrame'>\n",
      "RangeIndex: 8894 entries, 0 to 8893\n",
      "Data columns (total 7 columns):\n",
      " #   Column              Non-Null Count  Dtype \n",
      "---  ------              --------------  ----- \n",
      " 0   year                8894 non-null   int64 \n",
      " 1   districtCode        8894 non-null   int64 \n",
      " 2   districtName        8894 non-null   object\n",
      " 3   neighborhoodCode    8894 non-null   int64 \n",
      " 4   neighborhoodName    8894 non-null   object\n",
      " 5   placeOfDestination  8894 non-null   object\n",
      " 6   count               8894 non-null   int64 \n",
      "dtypes: int64(4), object(3)\n",
      "memory usage: 486.5+ KB\n"
     ]
    },
    {
     "data": {
      "text/html": [
       "<div>\n",
       "<style scoped>\n",
       "    .dataframe tbody tr th:only-of-type {\n",
       "        vertical-align: middle;\n",
       "    }\n",
       "\n",
       "    .dataframe tbody tr th {\n",
       "        vertical-align: top;\n",
       "    }\n",
       "\n",
       "    .dataframe thead th {\n",
       "        text-align: right;\n",
       "    }\n",
       "</style>\n",
       "<table border=\"1\" class=\"dataframe\">\n",
       "  <thead>\n",
       "    <tr style=\"text-align: right;\">\n",
       "      <th></th>\n",
       "      <th>year</th>\n",
       "      <th>districtCode</th>\n",
       "      <th>neighborhoodCode</th>\n",
       "      <th>count</th>\n",
       "    </tr>\n",
       "  </thead>\n",
       "  <tbody>\n",
       "    <tr>\n",
       "      <th>count</th>\n",
       "      <td>8894.000000</td>\n",
       "      <td>8894.000000</td>\n",
       "      <td>8894.000000</td>\n",
       "      <td>8894.000000</td>\n",
       "    </tr>\n",
       "    <tr>\n",
       "      <th>mean</th>\n",
       "      <td>2017.469080</td>\n",
       "      <td>6.882730</td>\n",
       "      <td>37.425230</td>\n",
       "      <td>38.251181</td>\n",
       "    </tr>\n",
       "    <tr>\n",
       "      <th>std</th>\n",
       "      <td>1.715743</td>\n",
       "      <td>8.144309</td>\n",
       "      <td>21.614597</td>\n",
       "      <td>137.182914</td>\n",
       "    </tr>\n",
       "    <tr>\n",
       "      <th>min</th>\n",
       "      <td>2015.000000</td>\n",
       "      <td>1.000000</td>\n",
       "      <td>1.000000</td>\n",
       "      <td>0.000000</td>\n",
       "    </tr>\n",
       "    <tr>\n",
       "      <th>25%</th>\n",
       "      <td>2016.000000</td>\n",
       "      <td>4.000000</td>\n",
       "      <td>19.000000</td>\n",
       "      <td>1.000000</td>\n",
       "    </tr>\n",
       "    <tr>\n",
       "      <th>50%</th>\n",
       "      <td>2017.000000</td>\n",
       "      <td>7.000000</td>\n",
       "      <td>37.000000</td>\n",
       "      <td>5.000000</td>\n",
       "    </tr>\n",
       "    <tr>\n",
       "      <th>75%</th>\n",
       "      <td>2019.000000</td>\n",
       "      <td>8.000000</td>\n",
       "      <td>56.000000</td>\n",
       "      <td>17.000000</td>\n",
       "    </tr>\n",
       "    <tr>\n",
       "      <th>max</th>\n",
       "      <td>2020.000000</td>\n",
       "      <td>99.000000</td>\n",
       "      <td>99.000000</td>\n",
       "      <td>1686.000000</td>\n",
       "    </tr>\n",
       "  </tbody>\n",
       "</table>\n",
       "</div>"
      ],
      "text/plain": [
       "              year  districtCode  neighborhoodCode        count\n",
       "count  8894.000000   8894.000000       8894.000000  8894.000000\n",
       "mean   2017.469080      6.882730         37.425230    38.251181\n",
       "std       1.715743      8.144309         21.614597   137.182914\n",
       "min    2015.000000      1.000000          1.000000     0.000000\n",
       "25%    2016.000000      4.000000         19.000000     1.000000\n",
       "50%    2017.000000      7.000000         37.000000     5.000000\n",
       "75%    2019.000000      8.000000         56.000000    17.000000\n",
       "max    2020.000000     99.000000         99.000000  1686.000000"
      ]
     },
     "metadata": {},
     "output_type": "display_data"
    },
    {
     "name": "stdout",
     "output_type": "stream",
     "text": [
      "['Andalusia' 'Aragon' 'Principality of Asturias' 'Balearic islands'\n",
      " 'Canary Islands' 'Cantabria' 'Castile and Leon' 'Castilla-La Mancha'\n",
      " 'Catalonia' 'Valencian Community' 'Extremadura' 'Galicia'\n",
      " 'Community of Madrid' 'Region of Murcia' 'Foral Community of Navarre'\n",
      " 'Basque Country' 'La Rioja' 'Ceuta' 'Melilla' 'Stranger' nan]\n",
      "['Andalucía' 'Aragó' 'Principado de Asturias' 'Islas Baleares' 'Canarias'\n",
      " 'Cantabria' 'Castilla y León' 'Castilla-La Mancha' 'Cataluña'\n",
      " 'Comunidad Valenciana' 'Extremadura' 'Galicia' 'Comunidad de Madrid'\n",
      " 'Región de Murcia' 'Comunidad Foral de Navarra' 'País Vasco' 'La Rioja'\n",
      " 'Ceuta' 'Melilla' 'Extranjero' nan]\n"
     ]
    },
    {
     "data": {
      "text/html": [
       "<div>\n",
       "<style scoped>\n",
       "    .dataframe tbody tr th:only-of-type {\n",
       "        vertical-align: middle;\n",
       "    }\n",
       "\n",
       "    .dataframe tbody tr th {\n",
       "        vertical-align: top;\n",
       "    }\n",
       "\n",
       "    .dataframe thead th {\n",
       "        text-align: right;\n",
       "    }\n",
       "</style>\n",
       "<table border=\"1\" class=\"dataframe\">\n",
       "  <thead>\n",
       "    <tr style=\"text-align: right;\">\n",
       "      <th></th>\n",
       "      <th>year</th>\n",
       "      <th>districtCode</th>\n",
       "      <th>districtName</th>\n",
       "      <th>neighborhoodCode</th>\n",
       "      <th>neighborhoodName</th>\n",
       "      <th>placeOfDestination</th>\n",
       "      <th>count</th>\n",
       "      <th>placeOfDestinationENG</th>\n",
       "    </tr>\n",
       "  </thead>\n",
       "  <tbody>\n",
       "    <tr>\n",
       "      <th>0</th>\n",
       "      <td>2015</td>\n",
       "      <td>1</td>\n",
       "      <td>Ciutat Vella</td>\n",
       "      <td>1</td>\n",
       "      <td>el Raval</td>\n",
       "      <td>Andalucía</td>\n",
       "      <td>83</td>\n",
       "      <td>Andalusia</td>\n",
       "    </tr>\n",
       "    <tr>\n",
       "      <th>1</th>\n",
       "      <td>2015</td>\n",
       "      <td>1</td>\n",
       "      <td>Ciutat Vella</td>\n",
       "      <td>2</td>\n",
       "      <td>el Barri Gòtic</td>\n",
       "      <td>Andalucía</td>\n",
       "      <td>27</td>\n",
       "      <td>Andalusia</td>\n",
       "    </tr>\n",
       "    <tr>\n",
       "      <th>2</th>\n",
       "      <td>2015</td>\n",
       "      <td>1</td>\n",
       "      <td>Ciutat Vella</td>\n",
       "      <td>3</td>\n",
       "      <td>la Barceloneta</td>\n",
       "      <td>Andalucía</td>\n",
       "      <td>19</td>\n",
       "      <td>Andalusia</td>\n",
       "    </tr>\n",
       "    <tr>\n",
       "      <th>3</th>\n",
       "      <td>2015</td>\n",
       "      <td>1</td>\n",
       "      <td>Ciutat Vella</td>\n",
       "      <td>4</td>\n",
       "      <td>Sant Pere, Santa Caterina i la Ribera</td>\n",
       "      <td>Andalucía</td>\n",
       "      <td>47</td>\n",
       "      <td>Andalusia</td>\n",
       "    </tr>\n",
       "    <tr>\n",
       "      <th>4</th>\n",
       "      <td>2015</td>\n",
       "      <td>2</td>\n",
       "      <td>Eixample</td>\n",
       "      <td>5</td>\n",
       "      <td>el Fort Pienc</td>\n",
       "      <td>Andalucía</td>\n",
       "      <td>33</td>\n",
       "      <td>Andalusia</td>\n",
       "    </tr>\n",
       "  </tbody>\n",
       "</table>\n",
       "</div>"
      ],
      "text/plain": [
       "   year  districtCode  districtName  neighborhoodCode  \\\n",
       "0  2015             1  Ciutat Vella                 1   \n",
       "1  2015             1  Ciutat Vella                 2   \n",
       "2  2015             1  Ciutat Vella                 3   \n",
       "3  2015             1  Ciutat Vella                 4   \n",
       "4  2015             2      Eixample                 5   \n",
       "\n",
       "                        neighborhoodName placeOfDestination  count  \\\n",
       "0                               el Raval          Andalucía     83   \n",
       "1                         el Barri Gòtic          Andalucía     27   \n",
       "2                         la Barceloneta          Andalucía     19   \n",
       "3  Sant Pere, Santa Caterina i la Ribera          Andalucía     47   \n",
       "4                          el Fort Pienc          Andalucía     33   \n",
       "\n",
       "  placeOfDestinationENG  \n",
       "0             Andalusia  \n",
       "1             Andalusia  \n",
       "2             Andalusia  \n",
       "3             Andalusia  \n",
       "4             Andalusia  "
      ]
     },
     "metadata": {},
     "output_type": "display_data"
    },
    {
     "name": "stdout",
     "output_type": "stream",
     "text": [
      "Time passed:  0.04285788536071777\n"
     ]
    }
   ],
   "source": [
    "t0 = time.time()\n",
    "emigrationByPlaceOfDestinationDF.info()\n",
    "display(emigrationByPlaceOfDestinationDF.describe())\n",
    "emigrationByPlaceOfDestinationDF['placeOfDestinationENG'] = emigrationByPlaceOfDestinationDF['placeOfDestination'].map(\n",
    "                                                                                list_of_PlaceOfOrigin_translatedEnglish)\n",
    "emigrationByPlaceOfDestinationDF['placeOfDestination'] = emigrationByPlaceOfDestinationDF['placeOfDestination'].map(\n",
    "                                                                                list_of_PlaceOfOrigin_translatedSpanish)\n",
    "\n",
    "print(emigrationByPlaceOfDestinationDF['placeOfDestinationENG'].unique())\n",
    "print(emigrationByPlaceOfDestinationDF['placeOfDestination'].unique())\n",
    "display(emigrationByPlaceOfDestinationDF.head())\n",
    "print(\"Time passed: \", time.time()-t0)"
   ]
  },
  {
   "cell_type": "code",
   "execution_count": 14,
   "metadata": {},
   "outputs": [
    {
     "name": "stdout",
     "output_type": "stream",
     "text": [
      "<class 'pandas.core.frame.DataFrame'>\n",
      "RangeIndex: 9261 entries, 0 to 9260\n",
      "Data columns (total 7 columns):\n",
      " #   Column            Non-Null Count  Dtype \n",
      "---  ------            --------------  ----- \n",
      " 0   year              9261 non-null   int64 \n",
      " 1   districtCode      9261 non-null   int64 \n",
      " 2   districtName      9261 non-null   object\n",
      " 3   neighborhoodCode  9261 non-null   int64 \n",
      " 4   neighborhoodName  9261 non-null   object\n",
      " 5   5YearAge          9261 non-null   object\n",
      " 6   count             9261 non-null   int64 \n",
      "dtypes: int64(4), object(3)\n",
      "memory usage: 506.6+ KB\n"
     ]
    },
    {
     "data": {
      "text/html": [
       "<div>\n",
       "<style scoped>\n",
       "    .dataframe tbody tr th:only-of-type {\n",
       "        vertical-align: middle;\n",
       "    }\n",
       "\n",
       "    .dataframe tbody tr th {\n",
       "        vertical-align: top;\n",
       "    }\n",
       "\n",
       "    .dataframe thead th {\n",
       "        text-align: right;\n",
       "    }\n",
       "</style>\n",
       "<table border=\"1\" class=\"dataframe\">\n",
       "  <thead>\n",
       "    <tr style=\"text-align: right;\">\n",
       "      <th></th>\n",
       "      <th>year</th>\n",
       "      <th>districtCode</th>\n",
       "      <th>neighborhoodCode</th>\n",
       "      <th>count</th>\n",
       "    </tr>\n",
       "  </thead>\n",
       "  <tbody>\n",
       "    <tr>\n",
       "      <th>count</th>\n",
       "      <td>9261.000000</td>\n",
       "      <td>9261.000000</td>\n",
       "      <td>9261.000000</td>\n",
       "      <td>9261.000000</td>\n",
       "    </tr>\n",
       "    <tr>\n",
       "      <th>mean</th>\n",
       "      <td>2017.489796</td>\n",
       "      <td>6.877551</td>\n",
       "      <td>37.421769</td>\n",
       "      <td>36.735342</td>\n",
       "    </tr>\n",
       "    <tr>\n",
       "      <th>std</th>\n",
       "      <td>1.707887</td>\n",
       "      <td>8.115175</td>\n",
       "      <td>21.610224</td>\n",
       "      <td>49.773125</td>\n",
       "    </tr>\n",
       "    <tr>\n",
       "      <th>min</th>\n",
       "      <td>2015.000000</td>\n",
       "      <td>1.000000</td>\n",
       "      <td>1.000000</td>\n",
       "      <td>0.000000</td>\n",
       "    </tr>\n",
       "    <tr>\n",
       "      <th>25%</th>\n",
       "      <td>2016.000000</td>\n",
       "      <td>4.000000</td>\n",
       "      <td>19.000000</td>\n",
       "      <td>6.000000</td>\n",
       "    </tr>\n",
       "    <tr>\n",
       "      <th>50%</th>\n",
       "      <td>2017.000000</td>\n",
       "      <td>7.000000</td>\n",
       "      <td>37.000000</td>\n",
       "      <td>19.000000</td>\n",
       "    </tr>\n",
       "    <tr>\n",
       "      <th>75%</th>\n",
       "      <td>2019.000000</td>\n",
       "      <td>8.000000</td>\n",
       "      <td>56.000000</td>\n",
       "      <td>47.000000</td>\n",
       "    </tr>\n",
       "    <tr>\n",
       "      <th>max</th>\n",
       "      <td>2020.000000</td>\n",
       "      <td>99.000000</td>\n",
       "      <td>99.000000</td>\n",
       "      <td>451.000000</td>\n",
       "    </tr>\n",
       "  </tbody>\n",
       "</table>\n",
       "</div>"
      ],
      "text/plain": [
       "              year  districtCode  neighborhoodCode        count\n",
       "count  9261.000000   9261.000000       9261.000000  9261.000000\n",
       "mean   2017.489796      6.877551         37.421769    36.735342\n",
       "std       1.707887      8.115175         21.610224    49.773125\n",
       "min    2015.000000      1.000000          1.000000     0.000000\n",
       "25%    2016.000000      4.000000         19.000000     6.000000\n",
       "50%    2017.000000      7.000000         37.000000    19.000000\n",
       "75%    2019.000000      8.000000         56.000000    47.000000\n",
       "max    2020.000000     99.000000         99.000000   451.000000"
      ]
     },
     "metadata": {},
     "output_type": "display_data"
    },
    {
     "name": "stdout",
     "output_type": "stream",
     "text": [
      "['0-4' '5-9' '10-14' '15-19' '20-24' '25-29' '30-34' '35-39' '40-44'\n",
      " '45-49' '50-54' '55-59' '60-64' '65-69' '70-74' '75-79' '80-84' '85-89'\n",
      " '90-94' '95-99' '100+']\n"
     ]
    },
    {
     "data": {
      "text/html": [
       "<div>\n",
       "<style scoped>\n",
       "    .dataframe tbody tr th:only-of-type {\n",
       "        vertical-align: middle;\n",
       "    }\n",
       "\n",
       "    .dataframe tbody tr th {\n",
       "        vertical-align: top;\n",
       "    }\n",
       "\n",
       "    .dataframe thead th {\n",
       "        text-align: right;\n",
       "    }\n",
       "</style>\n",
       "<table border=\"1\" class=\"dataframe\">\n",
       "  <thead>\n",
       "    <tr style=\"text-align: right;\">\n",
       "      <th></th>\n",
       "      <th>year</th>\n",
       "      <th>districtCode</th>\n",
       "      <th>districtName</th>\n",
       "      <th>neighborhoodCode</th>\n",
       "      <th>neighborhoodName</th>\n",
       "      <th>5YearAge</th>\n",
       "      <th>count</th>\n",
       "    </tr>\n",
       "  </thead>\n",
       "  <tbody>\n",
       "    <tr>\n",
       "      <th>0</th>\n",
       "      <td>2015</td>\n",
       "      <td>1</td>\n",
       "      <td>Ciutat Vella</td>\n",
       "      <td>1</td>\n",
       "      <td>el Raval</td>\n",
       "      <td>0-4</td>\n",
       "      <td>112</td>\n",
       "    </tr>\n",
       "    <tr>\n",
       "      <th>1</th>\n",
       "      <td>2015</td>\n",
       "      <td>1</td>\n",
       "      <td>Ciutat Vella</td>\n",
       "      <td>2</td>\n",
       "      <td>el Barri Gòtic</td>\n",
       "      <td>0-4</td>\n",
       "      <td>28</td>\n",
       "    </tr>\n",
       "    <tr>\n",
       "      <th>2</th>\n",
       "      <td>2015</td>\n",
       "      <td>1</td>\n",
       "      <td>Ciutat Vella</td>\n",
       "      <td>3</td>\n",
       "      <td>la Barceloneta</td>\n",
       "      <td>0-4</td>\n",
       "      <td>21</td>\n",
       "    </tr>\n",
       "    <tr>\n",
       "      <th>3</th>\n",
       "      <td>2015</td>\n",
       "      <td>1</td>\n",
       "      <td>Ciutat Vella</td>\n",
       "      <td>4</td>\n",
       "      <td>Sant Pere, Santa Caterina i la Ribera</td>\n",
       "      <td>0-4</td>\n",
       "      <td>35</td>\n",
       "    </tr>\n",
       "    <tr>\n",
       "      <th>4</th>\n",
       "      <td>2015</td>\n",
       "      <td>2</td>\n",
       "      <td>Eixample</td>\n",
       "      <td>5</td>\n",
       "      <td>el Fort Pienc</td>\n",
       "      <td>0-4</td>\n",
       "      <td>62</td>\n",
       "    </tr>\n",
       "  </tbody>\n",
       "</table>\n",
       "</div>"
      ],
      "text/plain": [
       "   year  districtCode  districtName  neighborhoodCode  \\\n",
       "0  2015             1  Ciutat Vella                 1   \n",
       "1  2015             1  Ciutat Vella                 2   \n",
       "2  2015             1  Ciutat Vella                 3   \n",
       "3  2015             1  Ciutat Vella                 4   \n",
       "4  2015             2      Eixample                 5   \n",
       "\n",
       "                        neighborhoodName 5YearAge  count  \n",
       "0                               el Raval      0-4    112  \n",
       "1                         el Barri Gòtic      0-4     28  \n",
       "2                         la Barceloneta      0-4     21  \n",
       "3  Sant Pere, Santa Caterina i la Ribera      0-4     35  \n",
       "4                          el Fort Pienc      0-4     62  "
      ]
     },
     "metadata": {},
     "output_type": "display_data"
    },
    {
     "name": "stdout",
     "output_type": "stream",
     "text": [
      "Time passed:  0.034896135330200195\n"
     ]
    }
   ],
   "source": [
    "t0 = time.time()\n",
    "emigrationBy5YearAgeDF.info()\n",
    "display(emigrationBy5YearAgeDF.describe())\n",
    "\n",
    "emigrationBy5YearAgeDF['5YearAge'] = emigrationBy5YearAgeDF['5YearAge'].map(mapAge)\n",
    "\n",
    "print(emigrationBy5YearAgeDF['5YearAge'].unique())\n",
    "display(emigrationBy5YearAgeDF.head())\n",
    "print(\"Time passed: \", time.time()-t0)"
   ]
  },
  {
   "cell_type": "code",
   "execution_count": 15,
   "metadata": {},
   "outputs": [
    {
     "name": "stdout",
     "output_type": "stream",
     "text": [
      "<class 'pandas.core.frame.DataFrame'>\n",
      "RangeIndex: 882 entries, 0 to 881\n",
      "Data columns (total 7 columns):\n",
      " #   Column            Non-Null Count  Dtype \n",
      "---  ------            --------------  ----- \n",
      " 0   year              882 non-null    int64 \n",
      " 1   districtCode      882 non-null    int64 \n",
      " 2   districtName      882 non-null    object\n",
      " 3   neighborhoodCode  882 non-null    int64 \n",
      " 4   neighborhoodName  882 non-null    object\n",
      " 5   sex               882 non-null    object\n",
      " 6   count             882 non-null    int64 \n",
      "dtypes: int64(4), object(3)\n",
      "memory usage: 48.4+ KB\n"
     ]
    },
    {
     "data": {
      "text/html": [
       "<div>\n",
       "<style scoped>\n",
       "    .dataframe tbody tr th:only-of-type {\n",
       "        vertical-align: middle;\n",
       "    }\n",
       "\n",
       "    .dataframe tbody tr th {\n",
       "        vertical-align: top;\n",
       "    }\n",
       "\n",
       "    .dataframe thead th {\n",
       "        text-align: right;\n",
       "    }\n",
       "</style>\n",
       "<table border=\"1\" class=\"dataframe\">\n",
       "  <thead>\n",
       "    <tr style=\"text-align: right;\">\n",
       "      <th></th>\n",
       "      <th>year</th>\n",
       "      <th>districtCode</th>\n",
       "      <th>neighborhoodCode</th>\n",
       "      <th>count</th>\n",
       "    </tr>\n",
       "  </thead>\n",
       "  <tbody>\n",
       "    <tr>\n",
       "      <th>count</th>\n",
       "      <td>882.000000</td>\n",
       "      <td>882.000000</td>\n",
       "      <td>882.000000</td>\n",
       "      <td>882.000000</td>\n",
       "    </tr>\n",
       "    <tr>\n",
       "      <th>mean</th>\n",
       "      <td>2017.489796</td>\n",
       "      <td>6.877551</td>\n",
       "      <td>37.421769</td>\n",
       "      <td>385.721088</td>\n",
       "    </tr>\n",
       "    <tr>\n",
       "      <th>std</th>\n",
       "      <td>1.708764</td>\n",
       "      <td>8.119341</td>\n",
       "      <td>21.621318</td>\n",
       "      <td>273.133981</td>\n",
       "    </tr>\n",
       "    <tr>\n",
       "      <th>min</th>\n",
       "      <td>2015.000000</td>\n",
       "      <td>1.000000</td>\n",
       "      <td>1.000000</td>\n",
       "      <td>0.000000</td>\n",
       "    </tr>\n",
       "    <tr>\n",
       "      <th>25%</th>\n",
       "      <td>2016.000000</td>\n",
       "      <td>4.000000</td>\n",
       "      <td>19.000000</td>\n",
       "      <td>188.000000</td>\n",
       "    </tr>\n",
       "    <tr>\n",
       "      <th>50%</th>\n",
       "      <td>2017.000000</td>\n",
       "      <td>7.000000</td>\n",
       "      <td>37.000000</td>\n",
       "      <td>347.000000</td>\n",
       "    </tr>\n",
       "    <tr>\n",
       "      <th>75%</th>\n",
       "      <td>2019.000000</td>\n",
       "      <td>8.000000</td>\n",
       "      <td>56.000000</td>\n",
       "      <td>539.000000</td>\n",
       "    </tr>\n",
       "    <tr>\n",
       "      <th>max</th>\n",
       "      <td>2020.000000</td>\n",
       "      <td>99.000000</td>\n",
       "      <td>99.000000</td>\n",
       "      <td>1541.000000</td>\n",
       "    </tr>\n",
       "  </tbody>\n",
       "</table>\n",
       "</div>"
      ],
      "text/plain": [
       "              year  districtCode  neighborhoodCode        count\n",
       "count   882.000000    882.000000        882.000000   882.000000\n",
       "mean   2017.489796      6.877551         37.421769   385.721088\n",
       "std       1.708764      8.119341         21.621318   273.133981\n",
       "min    2015.000000      1.000000          1.000000     0.000000\n",
       "25%    2016.000000      4.000000         19.000000   188.000000\n",
       "50%    2017.000000      7.000000         37.000000   347.000000\n",
       "75%    2019.000000      8.000000         56.000000   539.000000\n",
       "max    2020.000000     99.000000         99.000000  1541.000000"
      ]
     },
     "metadata": {},
     "output_type": "display_data"
    },
    {
     "name": "stdout",
     "output_type": "stream",
     "text": [
      "['Male' 'Female']\n"
     ]
    },
    {
     "data": {
      "text/html": [
       "<div>\n",
       "<style scoped>\n",
       "    .dataframe tbody tr th:only-of-type {\n",
       "        vertical-align: middle;\n",
       "    }\n",
       "\n",
       "    .dataframe tbody tr th {\n",
       "        vertical-align: top;\n",
       "    }\n",
       "\n",
       "    .dataframe thead th {\n",
       "        text-align: right;\n",
       "    }\n",
       "</style>\n",
       "<table border=\"1\" class=\"dataframe\">\n",
       "  <thead>\n",
       "    <tr style=\"text-align: right;\">\n",
       "      <th></th>\n",
       "      <th>year</th>\n",
       "      <th>districtCode</th>\n",
       "      <th>districtName</th>\n",
       "      <th>neighborhoodCode</th>\n",
       "      <th>neighborhoodName</th>\n",
       "      <th>sex</th>\n",
       "      <th>count</th>\n",
       "    </tr>\n",
       "  </thead>\n",
       "  <tbody>\n",
       "    <tr>\n",
       "      <th>0</th>\n",
       "      <td>2015</td>\n",
       "      <td>1</td>\n",
       "      <td>Ciutat Vella</td>\n",
       "      <td>1</td>\n",
       "      <td>el Raval</td>\n",
       "      <td>Male</td>\n",
       "      <td>1541</td>\n",
       "    </tr>\n",
       "    <tr>\n",
       "      <th>1</th>\n",
       "      <td>2015</td>\n",
       "      <td>1</td>\n",
       "      <td>Ciutat Vella</td>\n",
       "      <td>2</td>\n",
       "      <td>el Barri Gòtic</td>\n",
       "      <td>Male</td>\n",
       "      <td>435</td>\n",
       "    </tr>\n",
       "    <tr>\n",
       "      <th>2</th>\n",
       "      <td>2015</td>\n",
       "      <td>1</td>\n",
       "      <td>Ciutat Vella</td>\n",
       "      <td>3</td>\n",
       "      <td>la Barceloneta</td>\n",
       "      <td>Male</td>\n",
       "      <td>326</td>\n",
       "    </tr>\n",
       "    <tr>\n",
       "      <th>3</th>\n",
       "      <td>2015</td>\n",
       "      <td>1</td>\n",
       "      <td>Ciutat Vella</td>\n",
       "      <td>4</td>\n",
       "      <td>Sant Pere, Santa Caterina i la Ribera</td>\n",
       "      <td>Male</td>\n",
       "      <td>564</td>\n",
       "    </tr>\n",
       "    <tr>\n",
       "      <th>4</th>\n",
       "      <td>2015</td>\n",
       "      <td>2</td>\n",
       "      <td>Eixample</td>\n",
       "      <td>5</td>\n",
       "      <td>el Fort Pienc</td>\n",
       "      <td>Male</td>\n",
       "      <td>519</td>\n",
       "    </tr>\n",
       "  </tbody>\n",
       "</table>\n",
       "</div>"
      ],
      "text/plain": [
       "   year  districtCode  districtName  neighborhoodCode  \\\n",
       "0  2015             1  Ciutat Vella                 1   \n",
       "1  2015             1  Ciutat Vella                 2   \n",
       "2  2015             1  Ciutat Vella                 3   \n",
       "3  2015             1  Ciutat Vella                 4   \n",
       "4  2015             2      Eixample                 5   \n",
       "\n",
       "                        neighborhoodName   sex  count  \n",
       "0                               el Raval  Male   1541  \n",
       "1                         el Barri Gòtic  Male    435  \n",
       "2                         la Barceloneta  Male    326  \n",
       "3  Sant Pere, Santa Caterina i la Ribera  Male    564  \n",
       "4                          el Fort Pienc  Male    519  "
      ]
     },
     "metadata": {},
     "output_type": "display_data"
    },
    {
     "name": "stdout",
     "output_type": "stream",
     "text": [
      "Time passed:  0.03390955924987793\n"
     ]
    }
   ],
   "source": [
    "t0 = time.time()\n",
    "emigrationBySexDF.info()\n",
    "display(emigrationBySexDF.describe())\n",
    "emigrationBySexDF['sex'] = emigrationBySexDF['sex'].map(dictionary_of_gender_map)\n",
    "print(emigrationBySexDF['sex'].unique())\n",
    "display(emigrationBySexDF.head())\n",
    "print(\"Time passed: \", time.time()-t0)"
   ]
  },
  {
   "cell_type": "code",
   "execution_count": 16,
   "metadata": {},
   "outputs": [
    {
     "data": {
      "text/plain": [
       "8     156\n",
       "7     132\n",
       "10    120\n",
       "3      96\n",
       "9      84\n",
       "5      72\n",
       "2      72\n",
       "6      60\n",
       "1      48\n",
       "4      36\n",
       "99      6\n",
       "Name: districtCode, dtype: int64"
      ]
     },
     "execution_count": 16,
     "metadata": {},
     "output_type": "execute_result"
    }
   ],
   "source": [
    "immigrationBySexDF.districtName.value_counts()\n",
    "immigrationBySexDF.districtCode.value_counts()"
   ]
  },
  {
   "cell_type": "code",
   "execution_count": 17,
   "metadata": {},
   "outputs": [],
   "source": [
    "immigrationBySexDF[immigrationBySexDF.districtName == 'No consta'] = None"
   ]
  },
  {
   "cell_type": "code",
   "execution_count": 18,
   "metadata": {},
   "outputs": [
    {
     "data": {
      "text/plain": [
       "Nou Barris             156\n",
       "Horta-Guinardó         132\n",
       "Sant Martí             120\n",
       "Sants-Montjuïc          96\n",
       "Sant Andreu             84\n",
       "Eixample                72\n",
       "Sarrià-Sant Gervasi     72\n",
       "Gràcia                  60\n",
       "Ciutat Vella            48\n",
       "Les Corts               36\n",
       "No consta                6\n",
       "Name: districtName, dtype: int64"
      ]
     },
     "execution_count": 18,
     "metadata": {},
     "output_type": "execute_result"
    }
   ],
   "source": [
    "emigrationBySexDF.districtName.value_counts()"
   ]
  },
  {
   "cell_type": "code",
   "execution_count": 19,
   "metadata": {},
   "outputs": [],
   "source": [
    "emigrationBySexDF[emigrationBySexDF.districtName == 'No consta'] = None"
   ]
  },
  {
   "cell_type": "code",
   "execution_count": 20,
   "metadata": {},
   "outputs": [
    {
     "data": {
      "image/png": "[encoded data removed]",
      "text/plain": [
       "<Figure size 432x288 with 1 Axes>"
      ]
     },
     "metadata": {
      "needs_background": "light"
     },
     "output_type": "display_data"
    },
    {
     "data": {
      "image/png": "[encoded data removed]",
      "text/plain": [
       "<Figure size 432x288 with 1 Axes>"
      ]
     },
     "metadata": {
      "needs_background": "light"
     },
     "output_type": "display_data"
    },
    {
     "data": {
      "image/png": "[encoded data removed]",
      "text/plain": [
       "<Figure size 432x288 with 1 Axes>"
      ]
     },
     "metadata": {
      "needs_background": "light"
     },
     "output_type": "display_data"
    },
    {
     "data": {
      "image/png": "[encoded data removed]",
      "text/plain": [
       "<Figure size 432x288 with 1 Axes>"
      ]
     },
     "metadata": {
      "needs_background": "light"
     },
     "output_type": "display_data"
    },
    {
     "data": {
      "image/png": "[encoded data removed]",
      "text/plain": [
       "<Figure size 432x288 with 1 Axes>"
      ]
     },
     "metadata": {
      "needs_background": "light"
     },
     "output_type": "display_data"
    },
    {
     "data": {
      "image/png": "[encoded data removed]",
      "text/plain": [
       "<Figure size 432x288 with 1 Axes>"
      ]
     },
     "metadata": {
      "needs_background": "light"
     },
     "output_type": "display_data"
    }
   ],
   "source": [
    "import matplotlib.pyplot as plt\n",
    "import seaborn as sns\n",
    "order = ['0-4', '5-9', '10-14', '15-19', '20-24', '25-29', '30-34', '35-39',\n",
    "       '40-44', '45-49', '50-54', '55-59', '60-64', '65-69', '70-74',\n",
    "       '75-79', '80-84', '85-89', '90-94', '95-99', '100+', 'NaN']\n",
    "for i in range(2015,2021):\n",
    "    data = emigrationBy5YearAgeDF[emigrationBy5YearAgeDF[\"year\"] == i].groupby(['5YearAge'])['count'].sum().to_frame().reset_index()\n",
    "    sns.barplot(data = data, x = '5YearAge', y = 'count', order = order )\n",
    "    plt.title(i)\n",
    "    plt.xticks(rotation=90)\n",
    "    plt.ylim(0,26000)\n",
    "    plt.show();"
   ]
  },
  {
   "cell_type": "code",
   "execution_count": 21,
   "metadata": {},
   "outputs": [
    {
     "data": {
      "image/png": "[encoded data removed]",
      "text/plain": [
       "<Figure size 432x288 with 1 Axes>"
      ]
     },
     "metadata": {
      "needs_background": "light"
     },
     "output_type": "display_data"
    },
    {
     "data": {
      "image/png": "[encoded data removed]",
      "text/plain": [
       "<Figure size 432x288 with 1 Axes>"
      ]
     },
     "metadata": {
      "needs_background": "light"
     },
     "output_type": "display_data"
    },
    {
     "data": {
      "image/png": "[encoded data removed]",
      "text/plain": [
       "<Figure size 432x288 with 1 Axes>"
      ]
     },
     "metadata": {
      "needs_background": "light"
     },
     "output_type": "display_data"
    },
    {
     "data": {
      "image/png": "[encoded data removed]",
      "text/plain": [
       "<Figure size 432x288 with 1 Axes>"
      ]
     },
     "metadata": {
      "needs_background": "light"
     },
     "output_type": "display_data"
    },
    {
     "data": {
      "image/png": "[encoded data removed]",
      "text/plain": [
       "<Figure size 432x288 with 1 Axes>"
      ]
     },
     "metadata": {
      "needs_background": "light"
     },
     "output_type": "display_data"
    },
    {
     "data": {
      "image/png": "[encoded data removed]",
      "text/plain": [
       "<Figure size 432x288 with 1 Axes>"
      ]
     },
     "metadata": {
      "needs_background": "light"
     },
     "output_type": "display_data"
    }
   ],
   "source": [
    "for i in range(2015,2021):\n",
    "    data = immigrationBy5YearAgeDF[immigrationBy5YearAgeDF[\"year\"] == i].groupby(['5YearAge'])['count'].sum().to_frame().reset_index()\n",
    "    sns.barplot(data = data, x = '5YearAge', y = 'count', order = order )\n",
    "    plt.title(i)\n",
    "    plt.xticks(rotation=90)\n",
    "    plt.ylim(0,26000)\n",
    "    plt.show();"
   ]
  },
  {
   "cell_type": "code",
   "execution_count": 22,
   "metadata": {},
   "outputs": [
    {
     "name": "stdout",
     "output_type": "stream",
     "text": [
      "2015\n"
     ]
    },
    {
     "data": {
      "text/plain": [
       "sex\n",
       "Female    27079.0\n",
       "Male      27026.0\n",
       "Name: count, dtype: float64"
      ]
     },
     "metadata": {},
     "output_type": "display_data"
    },
    {
     "name": "stdout",
     "output_type": "stream",
     "text": [
      "2016\n"
     ]
    },
    {
     "data": {
      "text/plain": [
       "sex\n",
       "Female    25563.0\n",
       "Male      24706.0\n",
       "Name: count, dtype: float64"
      ]
     },
     "metadata": {},
     "output_type": "display_data"
    },
    {
     "name": "stdout",
     "output_type": "stream",
     "text": [
      "2017\n"
     ]
    },
    {
     "data": {
      "text/plain": [
       "sex\n",
       "Female    27062.0\n",
       "Male      25586.0\n",
       "Name: count, dtype: float64"
      ]
     },
     "metadata": {},
     "output_type": "display_data"
    },
    {
     "name": "stdout",
     "output_type": "stream",
     "text": [
      "2018\n"
     ]
    },
    {
     "data": {
      "text/plain": [
       "sex\n",
       "Female    30545.0\n",
       "Male      28930.0\n",
       "Name: count, dtype: float64"
      ]
     },
     "metadata": {},
     "output_type": "display_data"
    },
    {
     "name": "stdout",
     "output_type": "stream",
     "text": [
      "2019\n"
     ]
    },
    {
     "data": {
      "text/plain": [
       "sex\n",
       "Female    31058.0\n",
       "Male      30606.0\n",
       "Name: count, dtype: float64"
      ]
     },
     "metadata": {},
     "output_type": "display_data"
    },
    {
     "name": "stdout",
     "output_type": "stream",
     "text": [
      "2020\n"
     ]
    },
    {
     "data": {
      "text/plain": [
       "sex\n",
       "Female    31171.0\n",
       "Male      30861.0\n",
       "Name: count, dtype: float64"
      ]
     },
     "metadata": {},
     "output_type": "display_data"
    }
   ],
   "source": [
    "for i in range(2015,2021):\n",
    "    print(i)\n",
    "    display(emigrationBySexDF[emigrationBySexDF['year'] == i].groupby(['sex'])['count'].sum())"
   ]
  },
  {
   "cell_type": "code",
   "execution_count": 23,
   "metadata": {},
   "outputs": [
    {
     "name": "stdout",
     "output_type": "stream",
     "text": [
      "2015\n"
     ]
    },
    {
     "data": {
      "text/plain": [
       "sex\n",
       "Female    44494.0\n",
       "Male      44482.0\n",
       "Name: count, dtype: float64"
      ]
     },
     "metadata": {},
     "output_type": "display_data"
    },
    {
     "name": "stdout",
     "output_type": "stream",
     "text": [
      "2016\n"
     ]
    },
    {
     "data": {
      "text/plain": [
       "sex\n",
       "Female    43497.0\n",
       "Male      41666.0\n",
       "Name: count, dtype: float64"
      ]
     },
     "metadata": {},
     "output_type": "display_data"
    },
    {
     "name": "stdout",
     "output_type": "stream",
     "text": [
      "2017\n"
     ]
    },
    {
     "data": {
      "text/plain": [
       "sex\n",
       "Female    49463.0\n",
       "Male      47862.0\n",
       "Name: count, dtype: float64"
      ]
     },
     "metadata": {},
     "output_type": "display_data"
    },
    {
     "name": "stdout",
     "output_type": "stream",
     "text": [
      "2018\n"
     ]
    },
    {
     "data": {
      "text/plain": [
       "sex\n",
       "Female    51063.0\n",
       "Male      51251.0\n",
       "Name: count, dtype: float64"
      ]
     },
     "metadata": {},
     "output_type": "display_data"
    },
    {
     "name": "stdout",
     "output_type": "stream",
     "text": [
      "2019\n"
     ]
    },
    {
     "data": {
      "text/plain": [
       "sex\n",
       "Female    56644.0\n",
       "Male      58664.0\n",
       "Name: count, dtype: float64"
      ]
     },
     "metadata": {},
     "output_type": "display_data"
    },
    {
     "name": "stdout",
     "output_type": "stream",
     "text": [
      "2020\n"
     ]
    },
    {
     "data": {
      "text/plain": [
       "sex\n",
       "Female    36710.0\n",
       "Male      38698.0\n",
       "Name: count, dtype: float64"
      ]
     },
     "metadata": {},
     "output_type": "display_data"
    }
   ],
   "source": [
    "for i in range(2015,2021):\n",
    "    print(i)\n",
    "    display(immigrationBySexDF[immigrationBySexDF['year'] == i].groupby(['sex'])['count'].sum())"
   ]
  },
  {
   "cell_type": "code",
   "execution_count": 24,
   "metadata": {},
   "outputs": [],
   "source": [
    "#Save as csv files\n",
    "immigrationBy5YearAgeDF.to_csv('immigrationBy5YearAgeDFBarcelona.csv')\n",
    "immigrationByNationalityDF.to_csv('immigrationByNationalityDFBarcelona.csv')\n",
    "immigrationByPlaceOfOriginDF.to_csv('immigrationByPlaceOfOriginDFBarcelona.csv')\n",
    "immigrationBySexDF.to_csv('immigrationBySexDFBarcelona.csv')\n",
    "emigrationBy5YearAgeDF.to_csv('emigrationBy5YearAgeDFBarcelona.csv')\n",
    "emigrationByNationalityDF.to_csv('emigrationByNationalityDFBarcelona.csv')\n",
    "emigrationByPlaceOfDestinationDF.to_csv('emigrationByPlaceOfDestinationDFBarcelona.csv')\n",
    "emigrationBySexDF.to_csv('emigrationBySexDFBarcelona.csv')\n"
   ]
  }
 ],
 "metadata": {
  "kernelspec": {
   "display_name": "Python 3",
   "language": "python",
   "name": "python3"
  },
  "language_info": {
   "codemirror_mode": {
    "name": "ipython",
    "version": 3
   },
   "file_extension": ".py",
   "mimetype": "text/x-python",
   "name": "python",
   "nbconvert_exporter": "python",
   "pygments_lexer": "ipython3",
   "version": "3.8.3"
  }
 },
 "nbformat": 4,
 "nbformat_minor": 4
}
